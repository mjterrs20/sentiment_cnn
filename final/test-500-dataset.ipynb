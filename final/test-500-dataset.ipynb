{
 "cells": [
  {
   "cell_type": "code",
   "execution_count": 1,
   "id": "2d0d4ce3-0130-41f4-bfa1-28ea54fe51a2",
   "metadata": {},
   "outputs": [],
   "source": [
    "# load model (klu mau mencoba lagi model yg habis di test)\n",
    "from keras.models import load_model\n",
    "cnn_test = load_model('pengujian/train90_test10/epoch_10/model90_e10.h5')"
   ]
  },
  {
   "cell_type": "code",
   "execution_count": 8,
   "id": "96b815bb-0249-4bab-8fa9-8f6eda6bdb38",
   "metadata": {},
   "outputs": [],
   "source": [
    "# melakukan text processing yang sama dengan dataset sebelumnya\n",
    "import numpy as np \n",
    "import pandas as pd\n",
    "import re\n",
    "import os\n",
    "\n",
    "import keras\n",
    "import keras.utils\n",
    "from sklearn import preprocessing\n",
    "from keras.preprocessing.sequence import pad_sequences\n",
    "from keras.preprocessing.text import Tokenizer\n",
    "from keras.preprocessing import sequence\n",
    "from sklearn.preprocessing import LabelEncoder\n",
    "from keras.utils.np_utils import to_categorical\n",
    "\n",
    "from functools import partial"
   ]
  },
  {
   "cell_type": "code",
   "execution_count": 4,
   "id": "1dccfc55-0bc6-413e-bb0e-55054d5143c2",
   "metadata": {},
   "outputs": [],
   "source": [
    "MAX_SEQUENCES_LENGTH = 50 # Maximum kata pada kalimat"
   ]
  },
  {
   "cell_type": "code",
   "execution_count": 6,
   "id": "93bdcf63-8ab0-4f49-a8e5-2c68e5075d7d",
   "metadata": {},
   "outputs": [
    {
     "data": {
      "text/html": [
       "<div>\n",
       "<style scoped>\n",
       "    .dataframe tbody tr th:only-of-type {\n",
       "        vertical-align: middle;\n",
       "    }\n",
       "\n",
       "    .dataframe tbody tr th {\n",
       "        vertical-align: top;\n",
       "    }\n",
       "\n",
       "    .dataframe thead th {\n",
       "        text-align: right;\n",
       "    }\n",
       "</style>\n",
       "<table border=\"1\" class=\"dataframe\">\n",
       "  <thead>\n",
       "    <tr style=\"text-align: right;\">\n",
       "      <th></th>\n",
       "      <th>text</th>\n",
       "    </tr>\n",
       "  </thead>\n",
       "  <tbody>\n",
       "    <tr>\n",
       "      <th>0</th>\n",
       "      <td>warga palestina turun jalan medan juang bondon...</td>\n",
       "    </tr>\n",
       "    <tr>\n",
       "      <th>1</th>\n",
       "      <td>zionis israel laknat hancur hancur aamiin saudara</td>\n",
       "    </tr>\n",
       "    <tr>\n",
       "      <th>2</th>\n",
       "      <td>kaum pancasila sibuk suara benar palestina eh ...</td>\n",
       "    </tr>\n",
       "    <tr>\n",
       "      <th>3</th>\n",
       "      <td>wawancara provokator wawancara penghianat bang...</td>\n",
       "    </tr>\n",
       "    <tr>\n",
       "      <th>4</th>\n",
       "      <td>fix israel takut medsos mari gaung kabar gaza ...</td>\n",
       "    </tr>\n",
       "  </tbody>\n",
       "</table>\n",
       "</div>"
      ],
      "text/plain": [
       "                                                text\n",
       "0  warga palestina turun jalan medan juang bondon...\n",
       "1  zionis israel laknat hancur hancur aamiin saudara\n",
       "2  kaum pancasila sibuk suara benar palestina eh ...\n",
       "3  wawancara provokator wawancara penghianat bang...\n",
       "4  fix israel takut medsos mari gaung kabar gaza ..."
      ]
     },
     "execution_count": 6,
     "metadata": {},
     "output_type": "execute_result"
    }
   ],
   "source": [
    "# open dataset, save on dataframe\n",
    "df = pd.read_csv(\"dataset500.csv\",encoding=\"ISO-8859-1\")\n",
    "\n",
    "# membuka data slang (data yang akan dibenarkan)\n",
    "with open('slang.txt') as file:\n",
    "    slang_map = dict(map(str.strip, line.partition('\\t')[::2])\n",
    "    for line in file if line.strip())\n",
    "    \n",
    "df.head()"
   ]
  },
  {
   "cell_type": "code",
   "execution_count": 9,
   "id": "81f9c8ca-9173-41bc-882c-66ac55142d53",
   "metadata": {},
   "outputs": [],
   "source": [
    "# Pre-Processing dataset\n",
    "# fungsi case folding dan menghapus RT dan CC\n",
    "def casefoldingRemoveRt(text):\n",
    "     # menghapus RT (reetwet)\n",
    "    text = re.sub(r'^[RT]+', '', text) \n",
    "    # case folding (menjadi lower case)\n",
    "    text = text.lower()\n",
    "    # menghapus CC (carbon copy)\n",
    "    text = re.sub(r'^[cc]+', '', text)\n",
    "    return text\n",
    "\n",
    "# fungsi untuk menghapus noise\n",
    "def removeNoise(text): \n",
    "    # menghapus unicode\n",
    "    text = re.sub(r'(\\\\u[0-9A-Fa-f]+)','', text)\n",
    "    # menghapus emoticon\n",
    "    text = re.sub(r'[^\\x00-\\x7f]','',text)\n",
    "    # menghapus url\n",
    "    text = re.sub('((www\\.[^\\s]+)|(https?://[^\\s]+))','',text) \n",
    "    # menghapus # (biasanya utk menandai topik tertentu)\n",
    "    text = re.sub(r'#([^\\s]+)', '', text) \n",
    "    # menghapus \"@users\"\n",
    "    text = re.sub('@[^\\s]+','',text)\n",
    "    return text\n",
    "\n",
    "# mengganti kata2 slang menjadi lebih baku\n",
    "slang_words = sorted(slang_map, key=len, reverse=True) # longest first for regex\n",
    "regex = re.compile(r\"\\b({})\\b\".format(\"|\".join(map(re.escape, slang_words))))\n",
    "replaceSlang = partial(regex.sub, lambda m: slang_map[m.group(1)])\n",
    "\n",
    "def removePunctuation(text): \n",
    "    # menghapus integers/numbers\n",
    "    text = ''.join([i for i in text if not i.isdigit()]) \n",
    "    # khusus untuk tanda baca ' (dirapatkan dengan text)\n",
    "    text = re.sub(\"'\",'',text)\n",
    "    # menghapus punctuation (tanda baca)\n",
    "    text = re.sub(r\"[^A-Za-z]+\",\" \",text)\n",
    "    # menghapus 1 karakter\n",
    "    text = re.sub('(\\\\b[A-Za-z] \\\\b|\\\\b [A-Za-z]\\\\b)', '', text)\n",
    "    # menghapus whitespace\n",
    "    text = ' '.join(text.split())\n",
    "    return text"
   ]
  },
  {
   "cell_type": "code",
   "execution_count": 10,
   "id": "1ef69905-f5b2-44bc-8f31-d8da882bab8b",
   "metadata": {},
   "outputs": [],
   "source": [
    "df['text'] = df['text'].apply(lambda x: casefoldingRemoveRt(x))\n",
    "df['text'] = df['text'].apply(lambda x: removeNoise(x))\n",
    "df['text'] = df['text'].apply(lambda x: replaceSlang(x))\n",
    "df['text'] = df['text'].apply(lambda x: removePunctuation(x))"
   ]
  },
  {
   "cell_type": "code",
   "execution_count": 11,
   "id": "11ad52cb-cd51-47cd-b8c3-66fc43704fd2",
   "metadata": {},
   "outputs": [
    {
     "data": {
      "text/html": [
       "<div>\n",
       "<style scoped>\n",
       "    .dataframe tbody tr th:only-of-type {\n",
       "        vertical-align: middle;\n",
       "    }\n",
       "\n",
       "    .dataframe tbody tr th {\n",
       "        vertical-align: top;\n",
       "    }\n",
       "\n",
       "    .dataframe thead th {\n",
       "        text-align: right;\n",
       "    }\n",
       "</style>\n",
       "<table border=\"1\" class=\"dataframe\">\n",
       "  <thead>\n",
       "    <tr style=\"text-align: right;\">\n",
       "      <th></th>\n",
       "      <th>text</th>\n",
       "    </tr>\n",
       "  </thead>\n",
       "  <tbody>\n",
       "    <tr>\n",
       "      <th>0</th>\n",
       "      <td>warga palestina turun jalan medan juang bondon...</td>\n",
       "    </tr>\n",
       "    <tr>\n",
       "      <th>1</th>\n",
       "      <td>zionis israel laknat hancur hancur aamiin saudara</td>\n",
       "    </tr>\n",
       "    <tr>\n",
       "      <th>2</th>\n",
       "      <td>kaum pancasila sibuk suara benar palestina eh ...</td>\n",
       "    </tr>\n",
       "    <tr>\n",
       "      <th>3</th>\n",
       "      <td>wawancara provokator wawancara penghianat bang...</td>\n",
       "    </tr>\n",
       "    <tr>\n",
       "      <th>4</th>\n",
       "      <td>fix israel takut medsos mari gaung kabar gaza ...</td>\n",
       "    </tr>\n",
       "  </tbody>\n",
       "</table>\n",
       "</div>"
      ],
      "text/plain": [
       "                                                text\n",
       "0  warga palestina turun jalan medan juang bondon...\n",
       "1  zionis israel laknat hancur hancur aamiin saudara\n",
       "2  kaum pancasila sibuk suara benar palestina eh ...\n",
       "3  wawancara provokator wawancara penghianat bang...\n",
       "4  fix israel takut medsos mari gaung kabar gaza ..."
      ]
     },
     "execution_count": 11,
     "metadata": {},
     "output_type": "execute_result"
    }
   ],
   "source": [
    "df.head()"
   ]
  },
  {
   "cell_type": "code",
   "execution_count": 12,
   "id": "5403c4ef-d24d-4156-b2e7-3c1afc410efd",
   "metadata": {},
   "outputs": [],
   "source": [
    "#Tokenizing\n",
    "from nltk.tokenize import word_tokenize "
   ]
  },
  {
   "cell_type": "code",
   "execution_count": 13,
   "id": "ac30b19e-12d1-481a-b2cd-cd5ed66c517f",
   "metadata": {},
   "outputs": [],
   "source": [
    "# Stop Word\n",
    "from Sastrawi.StopWordRemover.StopWordRemoverFactory import StopWordRemoverFactory\n",
    "factory = StopWordRemoverFactory()\n",
    "stopword = factory.create_stop_word_remover()"
   ]
  },
  {
   "cell_type": "code",
   "execution_count": 14,
   "id": "c934bbc4-ba13-4dfd-8a47-327efaaca999",
   "metadata": {},
   "outputs": [
    {
     "data": {
      "text/plain": [
       "0      warga palestina turun jalan medan juang bondon...\n",
       "1      zionis israel laknat hancur hancur aamiin saudara\n",
       "2      kaum pancasila sibuk suara benar palestina eh ...\n",
       "3      wawancara provokator wawancara penghianat bang...\n",
       "4        fix israel takut medsos gaung kabar gaza banyak\n",
       "                             ...                        \n",
       "484    sumpah menang refugees afghanistan konflik ara...\n",
       "485    kelompok profesional israel serang netflix tam...\n",
       "486                              juang merdeka palestina\n",
       "487    moga berkah maulid nabi tambah semangat juang ...\n",
       "488                         juang bangsa palestina bebas\n",
       "Name: text, Length: 489, dtype: object"
      ]
     },
     "execution_count": 14,
     "metadata": {},
     "output_type": "execute_result"
    }
   ],
   "source": [
    "def stopWord(text):\n",
    "    stop = stopword.remove(text)\n",
    "    return stop\n",
    "\n",
    "df['text'] = df['text'].apply(lambda x: stopWord(x))\n",
    "df['text']"
   ]
  },
  {
   "cell_type": "code",
   "execution_count": 15,
   "id": "e140bf4c-f4f1-4f46-88fe-0aa385d5a849",
   "metadata": {},
   "outputs": [],
   "source": [
    "# Stemming\n",
    "from Sastrawi.Stemmer.StemmerFactory import StemmerFactory\n",
    "factory = StemmerFactory()\n",
    "stemmer = factory.create_stemmer()"
   ]
  },
  {
   "cell_type": "code",
   "execution_count": 16,
   "id": "1335b470-d2c8-4764-b84a-464561a57115",
   "metadata": {},
   "outputs": [
    {
     "data": {
      "text/plain": [
       "0      warga palestina turun jalan medan juang bondon...\n",
       "1      zionis israel laknat hancur hancur aamiin saudara\n",
       "2      kaum pancasila sibuk suara benar palestina eh ...\n",
       "3      wawancara provokator wawancara penghianat bang...\n",
       "4        fix israel takut medsos gaung kabar gaza banyak\n",
       "                             ...                        \n",
       "484    sumpah menang refugees afghanistan konflik ara...\n",
       "485    kelompok profesional israel serang netflix tam...\n",
       "486                              juang merdeka palestina\n",
       "487    moga berkah maulid nabi tambah semangat juang ...\n",
       "488                         juang bangsa palestina bebas\n",
       "Name: text, Length: 489, dtype: object"
      ]
     },
     "execution_count": 16,
     "metadata": {},
     "output_type": "execute_result"
    }
   ],
   "source": [
    "def stemming(text):\n",
    "    stream = stemmer.stem(text)\n",
    "    return stream\n",
    "\n",
    "df['text'] = df['text'].apply(lambda x: stemming(x))\n",
    "df['text']"
   ]
  },
  {
   "cell_type": "code",
   "execution_count": 17,
   "id": "6175bca7-8abd-4152-8777-41fee2d9f5ef",
   "metadata": {},
   "outputs": [],
   "source": [
    "# delete missing value \n",
    "nan_value = float('NaN')\n",
    "df.replace('', nan_value, inplace=True)\n",
    "df.dropna(subset=['text'], inplace=True)"
   ]
  },
  {
   "cell_type": "code",
   "execution_count": 18,
   "id": "ed2f0b2f-1757-4bea-9975-07a3f448799a",
   "metadata": {},
   "outputs": [],
   "source": [
    "# delete data duplicate\n",
    "df.drop_duplicates(subset='text', keep = 'first', inplace = True)"
   ]
  },
  {
   "cell_type": "code",
   "execution_count": 19,
   "id": "0a7595e4-908e-4af2-a96d-e79dff441c18",
   "metadata": {},
   "outputs": [],
   "source": [
    "# save hasil clean\n",
    "df.to_csv('dataset500_clean.csv', encoding='utf-8', index=False)"
   ]
  },
  {
   "cell_type": "code",
   "execution_count": 23,
   "id": "8b77e2cb-7993-4ca9-94eb-a8417d1a6804",
   "metadata": {},
   "outputs": [],
   "source": [
    "# memangil hasil tokenizer dari dataset sebelumnya\n",
    "dfDataset = pd.read_csv(\"dataset500.csv\",encoding=\"ISO-8859-1\")\n",
    "# Prepare to X as Feature\n",
    "tokenizer = Tokenizer()\n",
    "tokenizer.fit_on_texts(dfDataset.text)\n",
    "sequences = tokenizer.texts_to_sequences(dfDataset.text)"
   ]
  },
  {
   "cell_type": "code",
   "execution_count": null,
   "id": "fcc5994b-2c1a-4bac-b7c5-b20ea4f13760",
   "metadata": {},
   "outputs": [],
   "source": [
    "# labels = ['0', '1', '2']"
   ]
  },
  {
   "cell_type": "code",
   "execution_count": 38,
   "id": "ca5d18e9-7bcf-4807-94b3-00e271aff22c",
   "metadata": {},
   "outputs": [],
   "source": [
    "def cnn_predict(quest):\n",
    "    puretext = tokenizer.texts_to_sequences(quest)\n",
    "    text_pad = pad_sequences(puretext,maxlen=50,padding='post')\n",
    "    predicted = cnn_test.predict(text_pad)\n",
    "    predicted_category = predicted.argmax(axis=1)\n",
    "    return predicted_category"
   ]
  },
  {
   "cell_type": "code",
   "execution_count": 41,
   "id": "52f2c4d7-1eec-4633-a65f-42787b967e63",
   "metadata": {},
   "outputs": [],
   "source": [
    "labels = cnn_predict(df.text)"
   ]
  },
  {
   "cell_type": "code",
   "execution_count": 42,
   "id": "6a7f4b4e-c698-4fd9-8f87-b6bcc225a249",
   "metadata": {},
   "outputs": [
    {
     "data": {
      "text/plain": [
       "array([2, 2, 1, 1, 1, 2, 2, 1, 0, 2, 2, 1, 1, 1, 0, 0, 0, 1, 1, 1, 0, 2,\n",
       "       1, 0, 1, 1, 1, 0, 1, 1, 2, 1, 1, 1, 2, 2, 1, 1, 1, 2, 2, 1, 2, 2,\n",
       "       1, 2, 1, 1, 1, 1, 0, 1, 1, 1, 1, 2, 1, 0, 0, 1, 0, 1, 1, 0, 1, 1,\n",
       "       1, 0, 1, 1, 1, 1, 1, 1, 1, 1, 1, 1, 1, 0, 1, 1, 1, 1, 1, 1, 1, 1,\n",
       "       0, 0, 0, 1, 1, 1, 1, 0, 1, 1, 0, 0, 1, 2, 1, 1, 2, 2, 1, 2, 1, 1,\n",
       "       2, 1, 1, 2, 2, 1, 2, 2, 1, 1, 1, 1, 2, 2, 0, 1, 1, 2, 1, 0, 0, 0,\n",
       "       0, 0, 0, 0, 2, 2, 2, 0, 1, 1, 1, 1, 1, 2, 2, 2, 1, 1, 2, 2, 0, 2,\n",
       "       0, 2, 1, 0, 0, 1, 1, 1, 2, 1, 2, 2, 2, 1, 1, 2, 2, 1, 1, 1, 1, 1,\n",
       "       2, 2, 2, 2, 1, 0, 1, 1, 2, 0, 2, 1, 1, 1, 1, 0, 1, 1, 2, 0, 1, 0,\n",
       "       1, 1, 1, 1, 2, 2, 0, 0, 2, 1, 2, 0, 1, 0, 0, 0, 0, 1, 1, 0, 0, 1,\n",
       "       1, 2, 1, 1, 1, 2, 2, 1, 2, 1, 2, 1, 0, 2, 2, 2, 1, 1, 1, 0, 2, 2,\n",
       "       0, 1, 2, 1, 1, 0, 0, 2, 2, 0, 2, 1, 1, 1, 2, 1, 1, 2, 1, 1, 1, 1,\n",
       "       0, 2, 0, 2, 1, 2, 1, 1, 2, 1, 1, 1, 1, 2, 1, 2, 2, 1, 1, 1, 1, 1,\n",
       "       1, 2, 0, 0, 1, 2, 2, 1, 2, 2, 1, 1, 2, 2, 2, 1, 1, 1, 0, 1, 2, 1,\n",
       "       0, 1, 1, 1, 1, 2, 1, 2, 1, 1, 2, 1, 1, 0, 1, 2, 1, 1, 1, 2, 1, 2,\n",
       "       1, 0, 1, 1, 2, 1, 0, 0, 1, 1, 1, 1, 1, 0, 1, 1, 1, 1, 1, 1, 1, 1,\n",
       "       2, 1, 1, 1, 1, 2, 1, 1, 1, 0, 2, 1, 1, 1, 2, 2, 2, 2, 1, 1, 1, 2,\n",
       "       2, 2, 1, 2, 2, 1, 0, 1, 2, 2, 2, 2, 2, 1, 1, 1, 1, 1, 1, 2, 1, 1,\n",
       "       1, 1, 1, 1, 1, 2, 0, 1, 2, 2, 1, 1, 1, 1, 2, 2, 2, 1, 1, 1, 1, 1,\n",
       "       0, 1, 1, 2, 0, 0, 0, 1, 1, 2, 1, 1, 0, 2, 1, 1, 2, 1, 2, 0, 1, 1,\n",
       "       2, 1, 2, 2, 1, 1, 2, 1, 1, 1, 1, 1, 1, 1, 1, 1, 1, 0, 2, 0, 1, 0,\n",
       "       2, 2, 2, 1, 1, 1, 1, 1, 1, 2, 1, 2, 2, 1, 0, 1, 2, 2, 1, 2, 2, 0,\n",
       "       1, 0, 0, 1, 0])"
      ]
     },
     "execution_count": 42,
     "metadata": {},
     "output_type": "execute_result"
    }
   ],
   "source": [
    "labels"
   ]
  },
  {
   "cell_type": "code",
   "execution_count": 43,
   "id": "4b9c2de0-396f-4755-932f-cee8ff1b4f21",
   "metadata": {},
   "outputs": [],
   "source": [
    "# memasukan hasil labels tersebut ke dalam dataframe\n",
    "df['label'] = labels"
   ]
  },
  {
   "cell_type": "code",
   "execution_count": 44,
   "id": "6aeeec84-7178-43b4-a1c9-d0b1551d3915",
   "metadata": {},
   "outputs": [
    {
     "data": {
      "text/html": [
       "<div>\n",
       "<style scoped>\n",
       "    .dataframe tbody tr th:only-of-type {\n",
       "        vertical-align: middle;\n",
       "    }\n",
       "\n",
       "    .dataframe tbody tr th {\n",
       "        vertical-align: top;\n",
       "    }\n",
       "\n",
       "    .dataframe thead th {\n",
       "        text-align: right;\n",
       "    }\n",
       "</style>\n",
       "<table border=\"1\" class=\"dataframe\">\n",
       "  <thead>\n",
       "    <tr style=\"text-align: right;\">\n",
       "      <th></th>\n",
       "      <th>text</th>\n",
       "      <th>label</th>\n",
       "    </tr>\n",
       "  </thead>\n",
       "  <tbody>\n",
       "    <tr>\n",
       "      <th>0</th>\n",
       "      <td>warga palestina turun jalan medan juang bondon...</td>\n",
       "      <td>2</td>\n",
       "    </tr>\n",
       "    <tr>\n",
       "      <th>1</th>\n",
       "      <td>zionis israel laknat hancur hancur aamiin saudara</td>\n",
       "      <td>2</td>\n",
       "    </tr>\n",
       "    <tr>\n",
       "      <th>2</th>\n",
       "      <td>kaum pancasila sibuk suara benar palestina eh ...</td>\n",
       "      <td>1</td>\n",
       "    </tr>\n",
       "    <tr>\n",
       "      <th>3</th>\n",
       "      <td>wawancara provokator wawancara penghianat bang...</td>\n",
       "      <td>1</td>\n",
       "    </tr>\n",
       "    <tr>\n",
       "      <th>4</th>\n",
       "      <td>fix israel takut medsos gaung kabar gaza banyak</td>\n",
       "      <td>1</td>\n",
       "    </tr>\n",
       "  </tbody>\n",
       "</table>\n",
       "</div>"
      ],
      "text/plain": [
       "                                                text  label\n",
       "0  warga palestina turun jalan medan juang bondon...      2\n",
       "1  zionis israel laknat hancur hancur aamiin saudara      2\n",
       "2  kaum pancasila sibuk suara benar palestina eh ...      1\n",
       "3  wawancara provokator wawancara penghianat bang...      1\n",
       "4    fix israel takut medsos gaung kabar gaza banyak      1"
      ]
     },
     "execution_count": 44,
     "metadata": {},
     "output_type": "execute_result"
    }
   ],
   "source": [
    "df.head()"
   ]
  },
  {
   "cell_type": "code",
   "execution_count": 46,
   "id": "9f6bb922-eabf-45fa-a787-4c9d646d294b",
   "metadata": {},
   "outputs": [
    {
     "name": "stdout",
     "output_type": "stream",
     "text": [
      "1    270\n",
      "2    138\n",
      "0     81\n",
      "Name: label, dtype: int64\n"
     ]
    },
    {
     "data": {
      "image/png": "[encoded data removed]",
      "text/plain": [
       "<Figure size 432x288 with 1 Axes>"
      ]
     },
     "metadata": {
      "needs_background": "light"
     },
     "output_type": "display_data"
    }
   ],
   "source": [
    "# menghitung hasil sentiment terhadap data baru\n",
    "labels_count = df.label.value_counts()\n",
    "labels_count.plot(kind=\"bar\", x='Label', y='Jumlah', color='red')\n",
    "print(df.label.value_counts())"
   ]
  },
  {
   "cell_type": "code",
   "execution_count": null,
   "id": "640b6ec4-43e9-4caa-a279-3da3ae636599",
   "metadata": {},
   "outputs": [],
   "source": []
  }
 ],
 "metadata": {
  "kernelspec": {
   "display_name": "Python 3",
   "language": "python",
   "name": "python3"
  },
  "language_info": {
   "codemirror_mode": {
    "name": "ipython",
    "version": 3
   },
   "file_extension": ".py",
   "mimetype": "text/x-python",
   "name": "python",
   "nbconvert_exporter": "python",
   "pygments_lexer": "ipython3",
   "version": "3.8.8"
  }
 },
 "nbformat": 4,
 "nbformat_minor": 5
}
