{
 "cells": [
  {
   "cell_type": "code",
   "execution_count": 1,
   "id": "d169d514-f06e-4d8c-9fb5-db43f2a317a7",
   "metadata": {},
   "outputs": [],
   "source": [
    "# import library\n",
    "import numpy as np \n",
    "import pandas as pd\n",
    "import re\n",
    "import os\n",
    "import pickle\n",
    "\n",
    "import matplotlib.pyplot as plt\n",
    "%matplotlib inline\n",
    "\n",
    "\n",
    "import keras\n",
    "import keras.utils\n",
    "from sklearn import preprocessing\n",
    "\n",
    "from keras.models import Sequential\n",
    "from keras.layers import Dense, Dropout, Activation\n",
    "from keras.layers import Embedding\n",
    "from keras.layers import Conv1D, GlobalMaxPooling1D, MaxPooling1D, Flatten\n",
    "\n",
    "from functools import partial\n",
    "from keras import metrics"
   ]
  },
  {
   "cell_type": "code",
   "execution_count": 2,
   "id": "70c2a3a2-6105-4327-9d1b-b28f128d9658",
   "metadata": {},
   "outputs": [],
   "source": [
    "MAX_SEQUENCES_LENGTH = 50 # Maximum kata pada kalimat\n",
    "MAX_NB_WORDS = 6000 # Vocabulary size\n",
    "EMBEDDING_DIM = 50 # Dimensions of Glove word vector kadang bisa juga 100"
   ]
  },
  {
   "cell_type": "code",
   "execution_count": 3,
   "id": "d6f97a05-ede7-4c0a-b647-070a8a593231",
   "metadata": {},
   "outputs": [],
   "source": [
    "# membuka dataset yg telah di split\n",
    "with open('split_dataset/train70_test30.pickle', 'rb') as f:\n",
    "    X_train, X_test, y_train, y_test = pickle.load(f)\n",
    "\n",
    "# membuka word_index\n",
    "with open('split_dataset/word_index.pickle', 'rb') as f:\n",
    "    word_index = pickle.load(f)"
   ]
  },
  {
   "cell_type": "code",
   "execution_count": 4,
   "id": "d4f9bb9a-b3d5-4caa-ad4f-651717802a68",
   "metadata": {},
   "outputs": [],
   "source": [
    "classes = ['0', '1', '2']"
   ]
  },
  {
   "cell_type": "code",
   "execution_count": 5,
   "id": "4c2b1028-fd8e-4890-a7d9-64f29905d94d",
   "metadata": {},
   "outputs": [
    {
     "name": "stdout",
     "output_type": "stream",
     "text": [
      "Indexing word vectors.\n",
      "Found 331286 word vectors.\n"
     ]
    }
   ],
   "source": [
    "# open Glove\n",
    "print('Indexing word vectors.')\n",
    "\n",
    "embeddings_index = {}\n",
    "f = open(os.path.join('dataset/glove/vectors.txt'), encoding='utf-8')\n",
    "for line in f:\n",
    "    values = line.split()\n",
    "    word = values[0]\n",
    "    coefs = np.asarray(values[1:], dtype='float32')\n",
    "    embeddings_index[word] = coefs\n",
    "f.close()\n",
    "\n",
    "print('Found %s word vectors.' % len(embeddings_index))"
   ]
  },
  {
   "cell_type": "code",
   "execution_count": 6,
   "id": "8306425c-56e3-4368-934b-4218c59a856e",
   "metadata": {},
   "outputs": [],
   "source": [
    "# Use GloVe as Word Embedding\n",
    "num_words = min(MAX_NB_WORDS, len(word_index))\n",
    "embedding_matrix = np.zeros((len(word_index) + 1, EMBEDDING_DIM))\n",
    "for word, i in word_index.items():\n",
    "    embedding_vector = embeddings_index.get(word)\n",
    "    if embedding_vector is not None:\n",
    "        # words not found in embedding index will be all-zeros.\n",
    "        embedding_matrix[i] = embedding_vector\n",
    "       "
   ]
  },
  {
   "cell_type": "code",
   "execution_count": 7,
   "id": "309daf5a-3e07-40c9-bd05-0319b4ecf084",
   "metadata": {},
   "outputs": [],
   "source": [
    "# Embedding layer with glove\n",
    "embedding_layer = Embedding(len(word_index) + 1, EMBEDDING_DIM, input_length=MAX_SEQUENCES_LENGTH, weights=[embedding_matrix], trainable=True)"
   ]
  },
  {
   "cell_type": "code",
   "execution_count": 8,
   "id": "f7799282-cec5-44c9-a817-f9a58a869f3d",
   "metadata": {},
   "outputs": [],
   "source": [
    "# Create Model CNN\n",
    "def create_model():\n",
    "    model = Sequential()\n",
    "    model.add(embedding_layer)\n",
    "    model.add(Conv1D(filters=128, kernel_size=3, activation='relu', padding='same'))\n",
    "    model.add(Dropout(0.3))\n",
    "    model.add(MaxPooling1D(pool_size=2))\n",
    "    model.add(Dropout(0.3))\n",
    "    model.add(Conv1D(filters=64, kernel_size=3, activation='relu', padding='same'))\n",
    "    model.add(Dropout(0.3))\n",
    "    model.add(GlobalMaxPooling1D())\n",
    "    model.add(Dense(32,activation=\"relu\"))\n",
    "    model.add(Dropout(0.3))\n",
    "    model.add(Dense(3, activation='softmax'))\n",
    "    model.compile(loss='categorical_crossentropy', optimizer='adam', metrics=['accuracy'])\n",
    "    model.summary()\n",
    "    return model"
   ]
  },
  {
   "cell_type": "code",
   "execution_count": 9,
   "id": "269a57d8-01ea-4fb9-a1a1-f3bccbe91c9a",
   "metadata": {},
   "outputs": [
    {
     "name": "stdout",
     "output_type": "stream",
     "text": [
      "Model: \"sequential\"\n",
      "_________________________________________________________________\n",
      "Layer (type)                 Output Shape              Param #   \n",
      "=================================================================\n",
      "embedding (Embedding)        (None, 50, 50)            130450    \n",
      "_________________________________________________________________\n",
      "conv1d (Conv1D)              (None, 50, 128)           19328     \n",
      "_________________________________________________________________\n",
      "dropout (Dropout)            (None, 50, 128)           0         \n",
      "_________________________________________________________________\n",
      "max_pooling1d (MaxPooling1D) (None, 25, 128)           0         \n",
      "_________________________________________________________________\n",
      "dropout_1 (Dropout)          (None, 25, 128)           0         \n",
      "_________________________________________________________________\n",
      "conv1d_1 (Conv1D)            (None, 25, 64)            24640     \n",
      "_________________________________________________________________\n",
      "dropout_2 (Dropout)          (None, 25, 64)            0         \n",
      "_________________________________________________________________\n",
      "global_max_pooling1d (Global (None, 64)                0         \n",
      "_________________________________________________________________\n",
      "dense (Dense)                (None, 32)                2080      \n",
      "_________________________________________________________________\n",
      "dropout_3 (Dropout)          (None, 32)                0         \n",
      "_________________________________________________________________\n",
      "dense_1 (Dense)              (None, 3)                 99        \n",
      "=================================================================\n",
      "Total params: 176,597\n",
      "Trainable params: 176,597\n",
      "Non-trainable params: 0\n",
      "_________________________________________________________________\n"
     ]
    }
   ],
   "source": [
    "# Train Model\n",
    "cnn_model = create_model()"
   ]
  },
  {
   "cell_type": "code",
   "execution_count": 10,
   "id": "7ce5b5a7-1571-4bb9-ab88-d7604afffbe6",
   "metadata": {},
   "outputs": [
    {
     "name": "stdout",
     "output_type": "stream",
     "text": [
      "Epoch 1/10\n",
      "31/31 [==============================] - 16s 43ms/step - loss: 1.3889 - accuracy: 0.4154 - val_loss: 1.0496 - val_accuracy: 0.4893\n",
      "Epoch 2/10\n",
      "31/31 [==============================] - 0s 9ms/step - loss: 1.0579 - accuracy: 0.4740 - val_loss: 1.0443 - val_accuracy: 0.4893\n",
      "Epoch 3/10\n",
      "31/31 [==============================] - 0s 7ms/step - loss: 1.0303 - accuracy: 0.4845 - val_loss: 1.0391 - val_accuracy: 0.4941\n",
      "Epoch 4/10\n",
      "31/31 [==============================] - 0s 8ms/step - loss: 1.0214 - accuracy: 0.5023 - val_loss: 1.0304 - val_accuracy: 0.4964\n",
      "Epoch 5/10\n",
      "31/31 [==============================] - 0s 7ms/step - loss: 1.0252 - accuracy: 0.4858 - val_loss: 1.0147 - val_accuracy: 0.5036\n",
      "Epoch 6/10\n",
      "31/31 [==============================] - 0s 7ms/step - loss: 1.0167 - accuracy: 0.5094 - val_loss: 0.9994 - val_accuracy: 0.5416\n",
      "Epoch 7/10\n",
      "31/31 [==============================] - 0s 7ms/step - loss: 0.9632 - accuracy: 0.5374 - val_loss: 0.9781 - val_accuracy: 0.5772\n",
      "Epoch 8/10\n",
      "31/31 [==============================] - 0s 7ms/step - loss: 0.9628 - accuracy: 0.5405 - val_loss: 0.9714 - val_accuracy: 0.5606\n",
      "Epoch 9/10\n",
      "31/31 [==============================] - 0s 7ms/step - loss: 0.9670 - accuracy: 0.5402 - val_loss: 0.9600 - val_accuracy: 0.5677\n",
      "Epoch 10/10\n",
      "31/31 [==============================] - 0s 8ms/step - loss: 0.8738 - accuracy: 0.5932 - val_loss: 0.9590 - val_accuracy: 0.5938\n"
     ]
    }
   ],
   "source": [
    "# Test epoch 10, 20, dan 50\n",
    "cnn_history = cnn_model.fit(X_train, y_train, epochs=10, validation_data=(X_test, y_test))"
   ]
  },
  {
   "cell_type": "code",
   "execution_count": 13,
   "id": "c31c6991-ca1c-4fcd-b304-a756c01ee431",
   "metadata": {},
   "outputs": [
    {
     "name": "stdout",
     "output_type": "stream",
     "text": [
      "CNN Accuracy: 0.5938242280285035\n"
     ]
    },
    {
     "data": {
      "image/png": "[encoded data removed]",
      "text/plain": [
       "<Figure size 1440x1152 with 2 Axes>"
      ]
     },
     "metadata": {
      "needs_background": "light"
     },
     "output_type": "display_data"
    }
   ],
   "source": [
    "# confusion matrix\n",
    "from sklearn.metrics import accuracy_score, confusion_matrix\n",
    "import seaborn as sns\n",
    "ypred = cnn_model.predict(X_test)\n",
    "cnn_accuracy = accuracy_score(y_test.argmax(axis=-1),ypred.argmax(axis=-1))\n",
    "print(\"CNN Accuracy:\",cnn_accuracy)\n",
    "cnn_cn = confusion_matrix(y_test.argmax(axis=-1),ypred.argmax(axis=-1))\n",
    "plt.subplots(figsize=(20,16))\n",
    "sns.heatmap(cnn_cn,annot=True,fmt=\"1d\",cmap=\"Blues\",cbar=True,xticklabels=classes,yticklabels=classes)\n",
    "plt.xlabel(\"Predicted\",fontsize=15)\n",
    "plt.ylabel(\"Actual\",fontsize=15)\n",
    "# klu mau save gambar\n",
    "plt.savefig('model70_e10.png')\n",
    "plt.show()"
   ]
  },
  {
   "cell_type": "code",
   "execution_count": 14,
   "id": "6fdc45a2-fbaf-47c9-82c8-6709b66b9f7d",
   "metadata": {},
   "outputs": [],
   "source": [
    "# save model\n",
    "cnn_model.save('model70_e10.h5')"
   ]
  },
  {
   "cell_type": "code",
   "execution_count": 12,
   "id": "f0629ff3-b34d-42f0-b1ff-2c7b2b79670b",
   "metadata": {},
   "outputs": [
    {
     "name": "stdout",
     "output_type": "stream",
     "text": [
      "              precision    recall  f1-score   support\n",
      "\n",
      "           0       0.63      0.24      0.35       111\n",
      "           1       0.59      0.84      0.70       206\n",
      "           2       0.58      0.47      0.52       104\n",
      "\n",
      "    accuracy                           0.59       421\n",
      "   macro avg       0.60      0.52      0.52       421\n",
      "weighted avg       0.60      0.59      0.56       421\n",
      "\n"
     ]
    }
   ],
   "source": [
    "from sklearn.metrics import classification_report\n",
    "print(classification_report(y_test.argmax(axis=-1), ypred.argmax(axis=-1),target_names= classes))"
   ]
  },
  {
   "cell_type": "code",
   "execution_count": 15,
   "id": "cbb99384-376d-4703-a492-305c0f496446",
   "metadata": {},
   "outputs": [
    {
     "data": {
      "image/png": "[encoded data removed]",
      "text/plain": [
       "<Figure size 1080x360 with 2 Axes>"
      ]
     },
     "metadata": {
      "needs_background": "light"
     },
     "output_type": "display_data"
    }
   ],
   "source": [
    "fig3, axe1 = plt.subplots(nrows=1, ncols=2, figsize=(15,5))\n",
    "axe1[0].plot(cnn_history.history[\"accuracy\"],label=\"accuracy\")\n",
    "axe1[0].plot(cnn_history.history[\"val_accuracy\"],label=\"accuracy\")\n",
    "axe1[0].legend(['train', 'val'], loc='upper left')\n",
    "axe1[1].plot(cnn_history.history[\"loss\"],label=\"loss\")\n",
    "axe1[1].plot(cnn_history.history[\"val_loss\"],label=\"loss\")\n",
    "axe1[1].legend(['train', 'val'], loc='upper left')\n",
    "axe1[0].title.set_text(\"CNN Accuracy\")\n",
    "axe1[1].title.set_text(\"CNN Loss\")\n",
    "axe1[0].set_xlabel(\"Epoch\")\n",
    "axe1[1].set_xlabel(\"Epoch\")\n",
    "axe1[0].set_ylabel(\"Rate\")\n",
    "plt.show()"
   ]
  },
  {
   "cell_type": "code",
   "execution_count": null,
   "id": "ad44f32c-d954-488e-9291-0bf348355d7d",
   "metadata": {},
   "outputs": [],
   "source": [
    "# load model (klu mau mencoba lagi model yg habis di test)\n",
    "# from keras.models import load_model\n",
    "# cnn_test = load_model('model90_e10.h5')"
   ]
  },
  {
   "cell_type": "code",
   "execution_count": null,
   "id": "be64b91e-eda4-413d-8047-bf7956f24b1b",
   "metadata": {},
   "outputs": [],
   "source": []
  }
 ],
 "metadata": {
  "kernelspec": {
   "display_name": "Python 3",
   "language": "python",
   "name": "python3"
  },
  "language_info": {
   "codemirror_mode": {
    "name": "ipython",
    "version": 3
   },
   "file_extension": ".py",
   "mimetype": "text/x-python",
   "name": "python",
   "nbconvert_exporter": "python",
   "pygments_lexer": "ipython3",
   "version": "3.8.8"
  }
 },
 "nbformat": 4,
 "nbformat_minor": 5
}
