{
 "cells": [
  {
   "cell_type": "code",
   "execution_count": 44,
   "id": "b87949bd-78ed-4f78-a0a7-a60d5ef17f87",
   "metadata": {},
   "outputs": [],
   "source": [
    "# import library\n",
    "import numpy as np \n",
    "import pandas as pd\n",
    "import re\n",
    "import os\n",
    "\n",
    "import matplotlib.pyplot as plt\n",
    "%matplotlib inline\n",
    "\n",
    "import keras\n",
    "import keras.utils\n",
    "from sklearn import preprocessing\n",
    "from keras.preprocessing.sequence import pad_sequences\n",
    "from keras.preprocessing.text import Tokenizer\n",
    "from keras.preprocessing import sequence\n",
    "from sklearn.preprocessing import LabelEncoder\n",
    "from keras.utils.np_utils import to_categorical\n",
    "from sklearn.model_selection import train_test_split\n",
    "\n",
    "from keras.models import Sequential\n",
    "from keras.layers import Dense, Dropout, Activation\n",
    "from keras.layers import Embedding\n",
    "from keras.layers import Conv1D, GlobalMaxPooling1D, MaxPooling1D, Flatten\n",
    "\n",
    "from functools import partial\n",
    "from keras import metrics"
   ]
  },
  {
   "cell_type": "code",
   "execution_count": 16,
   "id": "c17aee04-46c5-4577-88c9-bb55c4fb3ba2",
   "metadata": {},
   "outputs": [],
   "source": [
    "MAX_SEQUENCES_LENGTH = 100 # Maximum kata pada kalimat\n",
    "MAX_NB_WORDS = 5000 # Vocabulary size\n",
    "input_length=MAX_SEQUENCES_LENGTH,weights=[embedding_matrix],trainable=True)) = 50 # Dimensions of Glove word vector kadang bisa juga 100"
   ]
  },
  {
   "cell_type": "code",
   "execution_count": 2,
   "id": "ca3795f3-0596-4687-ba71-7f7ce3744bdc",
   "metadata": {},
   "outputs": [
    {
     "data": {
      "text/html": [
       "<div>\n",
       "<style scoped>\n",
       "    .dataframe tbody tr th:only-of-type {\n",
       "        vertical-align: middle;\n",
       "    }\n",
       "\n",
       "    .dataframe tbody tr th {\n",
       "        vertical-align: top;\n",
       "    }\n",
       "\n",
       "    .dataframe thead th {\n",
       "        text-align: right;\n",
       "    }\n",
       "</style>\n",
       "<table border=\"1\" class=\"dataframe\">\n",
       "  <thead>\n",
       "    <tr style=\"text-align: right;\">\n",
       "      <th></th>\n",
       "      <th>created_at</th>\n",
       "      <th>screen_name</th>\n",
       "      <th>text</th>\n",
       "      <th>Label</th>\n",
       "    </tr>\n",
       "  </thead>\n",
       "  <tbody>\n",
       "    <tr>\n",
       "      <th>0</th>\n",
       "      <td>5/1/2021 16:48</td>\n",
       "      <td>theoholan</td>\n",
       "      <td>itu mah konflik rebutan tanah</td>\n",
       "      <td>0</td>\n",
       "    </tr>\n",
       "    <tr>\n",
       "      <th>1</th>\n",
       "      <td>5/2/2021 1:38</td>\n",
       "      <td>knb_rmdhna</td>\n",
       "      <td>Karena ga ada urgensinya. Ga ada ancaman inva...</td>\n",
       "      <td>0</td>\n",
       "    </tr>\n",
       "    <tr>\n",
       "      <th>2</th>\n",
       "      <td>5/2/2021 5:51</td>\n",
       "      <td>_afaz</td>\n",
       "      <td>ini valid ð¯ kemarin saya smpat nonton sala...</td>\n",
       "      <td>0</td>\n",
       "    </tr>\n",
       "    <tr>\n",
       "      <th>3</th>\n",
       "      <td>5/2/2021 7:19</td>\n",
       "      <td>PolitikBRIN</td>\n",
       "      <td>Analisis yang dirumuskan dari Klaster Politik...</td>\n",
       "      <td>0</td>\n",
       "    </tr>\n",
       "    <tr>\n",
       "      <th>4</th>\n",
       "      <td>5/3/2021 14:12</td>\n",
       "      <td>KoloElang</td>\n",
       "      <td>Bisa tidak? Palestina taat secara kaffah dala...</td>\n",
       "      <td>0</td>\n",
       "    </tr>\n",
       "  </tbody>\n",
       "</table>\n",
       "</div>"
      ],
      "text/plain": [
       "       created_at  screen_name  \\\n",
       "0  5/1/2021 16:48    theoholan   \n",
       "1   5/2/2021 1:38   knb_rmdhna   \n",
       "2   5/2/2021 5:51        _afaz   \n",
       "3   5/2/2021 7:19  PolitikBRIN   \n",
       "4  5/3/2021 14:12    KoloElang   \n",
       "\n",
       "                                                text  Label  \n",
       "0                      itu mah konflik rebutan tanah      0  \n",
       "1   Karena ga ada urgensinya. Ga ada ancaman inva...      0  \n",
       "2   ini valid ð¯ kemarin saya smpat nonton sala...      0  \n",
       "3   Analisis yang dirumuskan dari Klaster Politik...      0  \n",
       "4   Bisa tidak? Palestina taat secara kaffah dala...      0  "
      ]
     },
     "execution_count": 2,
     "metadata": {},
     "output_type": "execute_result"
    }
   ],
   "source": [
    "# open dataset,save on dataframe\n",
    "df = pd.read_csv(\"dataset.csv\",encoding=\"ISO-8859-1\")\n",
    "\n",
    "# membuka data slang (data yang akan dibenarkan)\n",
    "with open('slang.txt') as file:\n",
    "    slang_map = dict(map(str.strip, line.partition('\\t')[::2])\n",
    "    for line in file if line.strip())\n",
    "    \n",
    "df.head()"
   ]
  },
  {
   "cell_type": "code",
   "execution_count": 3,
   "id": "4bf6aa05-d63c-4e1b-bdd7-02f72ec2b67f",
   "metadata": {},
   "outputs": [],
   "source": [
    "# drop column created_at and screen_name\n",
    "df = df.drop(['created_at', 'screen_name'], axis=1)"
   ]
  },
  {
   "cell_type": "code",
   "execution_count": 4,
   "id": "15648f74-55d2-485a-86e1-71f1c6b17e43",
   "metadata": {},
   "outputs": [],
   "source": [
    "# Pre-Processing dataset\n",
    "# fungsi case folding dan menghapus RT dan CC\n",
    "def casefoldingRemoveRt(text):\n",
    "     # menghapus RT (reetwet)\n",
    "    text = re.sub(r'^[RT]+', '', text) \n",
    "    # case folding (menjadi lower case)\n",
    "    text = text.lower()\n",
    "    # menghapus CC (carbon copy)\n",
    "    text = re.sub(r'^[cc]+', '', text)\n",
    "    return text\n",
    "\n",
    "# fungsi untuk menghapus noise\n",
    "def removeNoise(text): \n",
    "    # menghapus unicode\n",
    "    text = re.sub(r'(\\\\u[0-9A-Fa-f]+)','', text)\n",
    "    # menghapus emoticon\n",
    "    text = re.sub(r'[^\\x00-\\x7f]','',text)\n",
    "    # menghapus url\n",
    "    text = re.sub('((www\\.[^\\s]+)|(https?://[^\\s]+))','',text) \n",
    "    # menghapus # (biasanya utk menandai topik tertentu)\n",
    "    text = re.sub(r'#([^\\s]+)', '', text) \n",
    "    # menghapus \"@users\"\n",
    "    text = re.sub('@[^\\s]+','',text)\n",
    "    return text\n",
    "\n",
    "# mengganti kata2 slang menjadi lebih baku\n",
    "slang_words = sorted(slang_map, key=len, reverse=True) # longest first for regex\n",
    "regex = re.compile(r\"\\b({})\\b\".format(\"|\".join(map(re.escape, slang_words))))\n",
    "replaceSlang = partial(regex.sub, lambda m: slang_map[m.group(1)])\n",
    "\n",
    "def removePunctuation(text): \n",
    "    # menghapus integers/numbers\n",
    "    text = ''.join([i for i in text if not i.isdigit()]) \n",
    "    # khusus untuk tanda baca ' (dirapatkan dengan text)\n",
    "    text = re.sub(\"'\",'',text)\n",
    "    # menghapus punctuation (tanda baca)\n",
    "    text = re.sub(r\"[^A-Za-z]+\",\" \",text)\n",
    "    # menghapus 1 karakter\n",
    "    text = re.sub('(\\\\b[A-Za-z] \\\\b|\\\\b [A-Za-z]\\\\b)', '', text)\n",
    "    # menghapus whitespace\n",
    "    text = ' '.join(text.split())\n",
    "    return text"
   ]
  },
  {
   "cell_type": "code",
   "execution_count": 5,
   "id": "bfb218d4-aeba-41e1-b395-e7e55957a3c5",
   "metadata": {},
   "outputs": [],
   "source": [
    "df['text'] = df['text'].apply(lambda x: casefoldingRemoveRt(x))\n",
    "df['text'] = df['text'].apply(lambda x: removeNoise(x))\n",
    "df['text'] = df['text'].apply(lambda x: replaceSlang(x))\n",
    "df['text'] = df['text'].apply(lambda x: removePunctuation(x))"
   ]
  },
  {
   "cell_type": "code",
   "execution_count": 6,
   "id": "14ea7b21-5a7a-48d8-b7fb-138273cb28ab",
   "metadata": {},
   "outputs": [
    {
     "data": {
      "text/html": [
       "<div>\n",
       "<style scoped>\n",
       "    .dataframe tbody tr th:only-of-type {\n",
       "        vertical-align: middle;\n",
       "    }\n",
       "\n",
       "    .dataframe tbody tr th {\n",
       "        vertical-align: top;\n",
       "    }\n",
       "\n",
       "    .dataframe thead th {\n",
       "        text-align: right;\n",
       "    }\n",
       "</style>\n",
       "<table border=\"1\" class=\"dataframe\">\n",
       "  <thead>\n",
       "    <tr style=\"text-align: right;\">\n",
       "      <th></th>\n",
       "      <th>text</th>\n",
       "      <th>Label</th>\n",
       "    </tr>\n",
       "  </thead>\n",
       "  <tbody>\n",
       "    <tr>\n",
       "      <th>0</th>\n",
       "      <td>itu mah konflik rebutan tanah</td>\n",
       "      <td>0</td>\n",
       "    </tr>\n",
       "    <tr>\n",
       "      <th>1</th>\n",
       "      <td>karena tidak ada urgensinya tidak ada ancaman ...</td>\n",
       "      <td>0</td>\n",
       "    </tr>\n",
       "    <tr>\n",
       "      <th>2</th>\n",
       "      <td>ini sah kemarin saya smpat nonton salah satu w...</td>\n",
       "      <td>0</td>\n",
       "    </tr>\n",
       "    <tr>\n",
       "      <th>3</th>\n",
       "      <td>analisis yang dirumuskan dari klaster politik ...</td>\n",
       "      <td>0</td>\n",
       "    </tr>\n",
       "    <tr>\n",
       "      <th>4</th>\n",
       "      <td>bisa tidak palestina taat secara kaffah dalam ...</td>\n",
       "      <td>0</td>\n",
       "    </tr>\n",
       "  </tbody>\n",
       "</table>\n",
       "</div>"
      ],
      "text/plain": [
       "                                                text  Label\n",
       "0                      itu mah konflik rebutan tanah      0\n",
       "1  karena tidak ada urgensinya tidak ada ancaman ...      0\n",
       "2  ini sah kemarin saya smpat nonton salah satu w...      0\n",
       "3  analisis yang dirumuskan dari klaster politik ...      0\n",
       "4  bisa tidak palestina taat secara kaffah dalam ...      0"
      ]
     },
     "execution_count": 6,
     "metadata": {},
     "output_type": "execute_result"
    }
   ],
   "source": [
    "df.head()"
   ]
  },
  {
   "cell_type": "code",
   "execution_count": 7,
   "id": "8ef9e7df-ce2e-4738-b3cd-6bcf9feee032",
   "metadata": {},
   "outputs": [],
   "source": [
    "# delete missing value \n",
    "nan_value = float('NaN')\n",
    "df.replace('', nan_value, inplace=True)\n",
    "df.dropna(subset=['text'], inplace=True)"
   ]
  },
  {
   "cell_type": "code",
   "execution_count": 8,
   "id": "7e83ecbc-29fd-4bed-8b52-b72919d7d301",
   "metadata": {},
   "outputs": [],
   "source": [
    "# delete data duplicate\n",
    "df.drop_duplicates(subset='text', keep = 'first', inplace = True)"
   ]
  },
  {
   "cell_type": "code",
   "execution_count": null,
   "id": "748348b2-07ae-4738-bfa6-5ac8dc4484d4",
   "metadata": {},
   "outputs": [],
   "source": [
    "# convert to CSV\n",
    "# df.to_csv('clean1.csv', encoding='utf-8', index=False)"
   ]
  },
  {
   "cell_type": "code",
   "execution_count": 9,
   "id": "2b642154-ff9d-4cf3-99a8-eea3246a6708",
   "metadata": {},
   "outputs": [],
   "source": [
    "# Prepare to X as Feature\n",
    "tokenizer = Tokenizer()\n",
    "tokenizer.fit_on_texts(df.text)\n",
    "sequences = tokenizer.texts_to_sequences(df.text)\n",
    "# Banyak kata yang telah di tokenizer\n",
    "word_index = tokenizer.word_index"
   ]
  },
  {
   "cell_type": "code",
   "execution_count": 11,
   "id": "bed59d8c-75ce-48fb-9e48-c01ecba5156a",
   "metadata": {},
   "outputs": [
    {
     "name": "stdout",
     "output_type": "stream",
     "text": [
      "Found 3129 unique words.\n"
     ]
    }
   ],
   "source": [
    "print('Found %d unique words.' % len(word_index))"
   ]
  },
  {
   "cell_type": "code",
   "execution_count": 17,
   "id": "aa37a086-664a-4251-aa97-573d2c2f794c",
   "metadata": {},
   "outputs": [],
   "source": [
    "X = pad_sequences(sequences, maxlen=MAX_SEQUENCES_LENGTH, padding='post')"
   ]
  },
  {
   "cell_type": "code",
   "execution_count": 12,
   "id": "85ae952c-b972-476b-95cf-51370ea87a0d",
   "metadata": {},
   "outputs": [],
   "source": [
    "# Prepare to y as label\n",
    "y = df[\"Label\"]\n",
    "y = to_categorical(y)"
   ]
  },
  {
   "cell_type": "code",
   "execution_count": 37,
   "id": "923a20db-6ac8-4735-acd1-57fd0f733f32",
   "metadata": {},
   "outputs": [],
   "source": [
    "classes = ['0', '1', '2']"
   ]
  },
  {
   "cell_type": "code",
   "execution_count": 18,
   "id": "5ea47a00-cdd2-40f4-a47f-062972627cb1",
   "metadata": {},
   "outputs": [],
   "source": [
    "# Split Dataset\n",
    "X_train, X_test, y_train, y_test = train_test_split(X, y, test_size=0.3, random_state=20, stratify=y)"
   ]
  },
  {
   "cell_type": "code",
   "execution_count": 19,
   "id": "9362a351-476b-4d01-84f1-6a2ebcd1df55",
   "metadata": {},
   "outputs": [],
   "source": [
    "# Menyimpan dataset yg sudah di split agar bisa di panggil kembali\n",
    "import pickle\n",
    "with open('split_dataset/datset70.pickle', 'wb') as f:\n",
    "    pickle.dump([X_train, X_test, y_train, y_test], f)"
   ]
  },
  {
   "cell_type": "code",
   "execution_count": null,
   "id": "34ab8b99-9747-43f1-be02-6d1b2d05f339",
   "metadata": {},
   "outputs": [],
   "source": [
    "# Membuka dataset yg telah di panggil di file local\n",
    "# with open('pengujian/final/split_dataset/datset60.pickle', 'rb') as f:\n",
    "#     X_train80, X_test80, y_train80, y_test80 = pickle.load(f)"
   ]
  },
  {
   "cell_type": "code",
   "execution_count": 22,
   "id": "3c588958-6ba1-4ccb-986c-23c49358072c",
   "metadata": {},
   "outputs": [
    {
     "name": "stdout",
     "output_type": "stream",
     "text": [
      "Indexing word vectors.\n",
      "Found 331286 word vectors.\n"
     ]
    }
   ],
   "source": [
    "# open Glove\n",
    "print('Indexing word vectors.')\n",
    "\n",
    "embeddings_index = {}\n",
    "f = open(os.path.join('dataset/glove/vectors.txt'), encoding='utf-8')\n",
    "for line in f:\n",
    "    values = line.split()\n",
    "    word = values[0]\n",
    "    coefs = np.asarray(values[1:], dtype='float32')\n",
    "    embeddings_index[word] = coefs\n",
    "f.close()\n",
    "\n",
    "print('Found %s word vectors.' % len(embeddings_index))"
   ]
  },
  {
   "cell_type": "code",
   "execution_count": 23,
   "id": "433930ee-7c91-46b7-8fb1-ccd23b4bf081",
   "metadata": {},
   "outputs": [],
   "source": [
    "# Use GloVe as Word Embedding\n",
    "hits = 0\n",
    "misses = 0\n",
    "index = []\n",
    "num_words = min(MAX_NB_WORDS, len(word_index))\n",
    "embedding_matrix = np.zeros((len(word_index) + 1, EMBEDDING_DIM))\n",
    "for word, i in word_index.items():\n",
    "    embedding_vector = embeddings_index.get(word)\n",
    "    if embedding_vector is not None:\n",
    "        # words not found in embedding index will be all-zeros.\n",
    "        embedding_matrix[i] = embedding_vector\n",
    "        hits += 1\n",
    "    else:\n",
    "        misses += 1\n",
    "        index.append(word)"
   ]
  },
  {
   "cell_type": "code",
   "execution_count": 24,
   "id": "37b51025-22d4-4daf-be91-8204ad681a62",
   "metadata": {},
   "outputs": [
    {
     "data": {
      "text/plain": [
       "2858"
      ]
     },
     "execution_count": 24,
     "metadata": {},
     "output_type": "execute_result"
    }
   ],
   "source": [
    "# jumlah kata yg berhasil di embedding\n",
    "hits"
   ]
  },
  {
   "cell_type": "code",
   "execution_count": 25,
   "id": "79ece793-056c-415f-bcf9-6c8d94a2978b",
   "metadata": {},
   "outputs": [
    {
     "data": {
      "text/plain": [
       "271"
      ]
     },
     "execution_count": 25,
     "metadata": {},
     "output_type": "execute_result"
    }
   ],
   "source": [
    "# jumlah kata yg miss tidak ada dalam vector glove\n",
    "misses"
   ]
  },
  {
   "cell_type": "code",
   "execution_count": 26,
   "id": "0a4fd8a7-1bf2-47ed-9c7d-51420134a2c7",
   "metadata": {},
   "outputs": [
    {
     "data": {
      "text/plain": [
       "['kadrun',\n",
       " 'israhell',\n",
       " 'covid',\n",
       " 'ngerasa',\n",
       " 'gegara',\n",
       " 'mmng',\n",
       " 'kyknya',\n",
       " 'komenannya',\n",
       " 'colonialisme',\n",
       " 'ngerebut',\n",
       " 'sygnya',\n",
       " 'berjihat',\n",
       " 'komplik',\n",
       " 'jelasin',\n",
       " 'laknatulloh',\n",
       " 'penddk',\n",
       " 'nitizen',\n",
       " 'berundin',\n",
       " 'terorist',\n",
       " 'drun',\n",
       " 'laknatullah',\n",
       " 'akungaji',\n",
       " 'waloni',\n",
       " 'diglorifikasi',\n",
       " 'urgensinya',\n",
       " 'smpat',\n",
       " 'radikalis',\n",
       " 'memlerbaiki',\n",
       " 'ketidakpercayaan',\n",
       " 'jarusalem',\n",
       " 'alfatehah',\n",
       " 'urusin',\n",
       " 'mengkerdilkan',\n",
       " 'penyelesaiian',\n",
       " 'kobisa',\n",
       " 'konfl',\n",
       " 'ngelihat',\n",
       " 'tundukan',\n",
       " 'berenti',\n",
       " 'diselesaika',\n",
       " 'soekarnois',\n",
       " 'kliatan',\n",
       " 'dipalestina',\n",
       " 'tepewen',\n",
       " 'cenderu',\n",
       " 'alaqsa',\n",
       " 'amiinnnn',\n",
       " 'melulul',\n",
       " 'blakangan',\n",
       " 'mengingatkanku',\n",
       " 'nyerang',\n",
       " 'wkwkwk',\n",
       " 'nyuplai',\n",
       " 'ngehajar',\n",
       " 'yudae',\n",
       " 'ngometarin',\n",
       " 'ngelawan',\n",
       " 'diselesai',\n",
       " 'gapaham',\n",
       " 'gilaa',\n",
       " 'kejatahan',\n",
       " 'gapernah',\n",
       " 'gajelas',\n",
       " 'ningkatin',\n",
       " 'ledakin',\n",
       " 'ginian',\n",
       " 'nyinyiran',\n",
       " 'sampin',\n",
       " 'ngeluarin',\n",
       " 'nentuin',\n",
       " 'mantengin',\n",
       " 'pejuh',\n",
       " 'mangap',\n",
       " 'bernarasi',\n",
       " 'blablabla',\n",
       " 'jihat',\n",
       " 'sehitam',\n",
       " 'sewena',\n",
       " 'mengkaburkan',\n",
       " 'mendeko',\n",
       " 'unjsr',\n",
       " 'pusingin',\n",
       " 'keroknya',\n",
       " 'kezholiman',\n",
       " 'bayangin',\n",
       " 'hahahaa',\n",
       " 'ngetweet',\n",
       " 'pigur',\n",
       " 'abuti',\n",
       " 'konfrantasi',\n",
       " 'behwa',\n",
       " 'trhdap',\n",
       " 'orthodok',\n",
       " 'nukankah',\n",
       " 'acakadut',\n",
       " 'tweetnya',\n",
       " 'nyinggung',\n",
       " 'ditemakan',\n",
       " 'mispe',\n",
       " 'ngedoain',\n",
       " 'diharapkn',\n",
       " 'gimic',\n",
       " 'haduh',\n",
       " 'belokin',\n",
       " 'eskalasinya',\n",
       " 'misahin',\n",
       " 'dipropagandakan',\n",
       " 'duaduanya',\n",
       " 'dikait',\n",
       " 'pengidola',\n",
       " 'kepikirian',\n",
       " 'kekubuan',\n",
       " 'ngebela',\n",
       " 'zsm',\n",
       " 'menginsinuasi',\n",
       " 'issuenya',\n",
       " 'koplok',\n",
       " 'konfli',\n",
       " 'kukot',\n",
       " 'biangane',\n",
       " 'radong',\n",
       " 'koar',\n",
       " 'tapikan',\n",
       " 'gansing',\n",
       " 'nege',\n",
       " 'haloooo',\n",
       " 'diposo',\n",
       " 'pulak',\n",
       " 'memuncah',\n",
       " 'berinisiasi',\n",
       " 'bekingannya',\n",
       " 'apertheid',\n",
       " 'aperthe',\n",
       " 'lindungillah',\n",
       " 'ngedebat',\n",
       " 'perjuangin',\n",
       " 'perebuta',\n",
       " 'kspi',\n",
       " 'ngebacanya',\n",
       " 'dimenang',\n",
       " 'haduhhh',\n",
       " 'aplg',\n",
       " 'diruntaskan',\n",
       " 'netijen',\n",
       " 'akuilah',\n",
       " 'memoertahankan',\n",
       " 'ngorbankan',\n",
       " 'sipill',\n",
       " 'coiii',\n",
       " 'penyaki',\n",
       " 'cerdasss',\n",
       " 'menyelesaikannya',\n",
       " 'dialama',\n",
       " 'mensyahkan',\n",
       " 'hehehehe',\n",
       " 'direcokin',\n",
       " 'belain',\n",
       " 'tekn',\n",
       " 'iyaqub',\n",
       " 'pendamaiannya',\n",
       " 'ketulungan',\n",
       " 'kesepak',\n",
       " 'setahuku',\n",
       " 'nyebutnya',\n",
       " 'katain',\n",
       " 'pointnya',\n",
       " 'keributannya',\n",
       " 'plstina',\n",
       " 'propokasi',\n",
       " 'udahlah',\n",
       " 'israe',\n",
       " 'diemin',\n",
       " 'pembebasa',\n",
       " 'pergrjolakan',\n",
       " 'kesombonga',\n",
       " 'pengikutinya',\n",
       " 'percepatlah',\n",
       " 'kemenang',\n",
       " 'kedzhaliman',\n",
       " 'ngadepin',\n",
       " 'hamaslah',\n",
       " 'pertempuranya',\n",
       " 'lsrael',\n",
       " 'mengkonflikkan',\n",
       " 'paletina',\n",
       " 'kwwkwkwkwkwk',\n",
       " 'menderit',\n",
       " 'difikiran',\n",
       " 'memprofokasi',\n",
       " 'akhirnyaaa',\n",
       " 'mentahlah',\n",
       " 'kebngsatan',\n",
       " 'dimediatori',\n",
       " 'dijalankn',\n",
       " 'baguslah',\n",
       " 'mosad',\n",
       " 'dikerahkannya',\n",
       " 'singkronkah',\n",
       " 'kudet',\n",
       " 'ketebak',\n",
       " 'kepalestina',\n",
       " 'hendr',\n",
       " 'ngedebatin',\n",
       " 'komditi',\n",
       " 'polikus',\n",
       " 'terpe',\n",
       " 'akannya',\n",
       " 'memung',\n",
       " 'dikandangnya',\n",
       " 'zahudi',\n",
       " 'pemerhatian',\n",
       " 'diorang',\n",
       " 'disadvantage',\n",
       " 'dikibar',\n",
       " 'sekaranh',\n",
       " 'keterla',\n",
       " 'nyungsep',\n",
       " 'kepntingan',\n",
       " 'kegembiraa',\n",
       " 'dimanfaankan',\n",
       " 'berperikemanusiaan',\n",
       " 'menyengsarakam',\n",
       " 'memnuat',\n",
       " 'nangkapin',\n",
       " 'sobbb',\n",
       " 'kapir',\n",
       " 'fakt',\n",
       " 'caplok',\n",
       " 'seheboh',\n",
       " 'njlungup',\n",
       " 'pengacaunya',\n",
       " 'popkoknya',\n",
       " 'enggk',\n",
       " 'ketololoan',\n",
       " 'kerjaa',\n",
       " 'kafirin',\n",
       " 'simpat',\n",
       " 'menyak',\n",
       " 'prsyarat',\n",
       " 'akumul',\n",
       " 'nengecam',\n",
       " 'narsum',\n",
       " 'conton',\n",
       " 'yahudiah',\n",
       " 'pelacurnya',\n",
       " 'merudal',\n",
       " 'digenosida',\n",
       " 'omaror',\n",
       " 'taibeh',\n",
       " 'ngaur',\n",
       " 'sigoblok',\n",
       " 'berulangk',\n",
       " 'lokataru',\n",
       " 'antardua',\n",
       " 'biaran',\n",
       " 'ajalah',\n",
       " 'odid',\n",
       " 'ngelihatnya',\n",
       " 'ngulur',\n",
       " 'anyiiing',\n",
       " 'ttep',\n",
       " 'terdoktrin',\n",
       " 'usangnya',\n",
       " 'brenti',\n",
       " 'lagiii',\n",
       " 'disisinlain',\n",
       " 'presidenjoko',\n",
       " 'trllu',\n",
       " 'ngebom',\n",
       " 'sumban',\n",
       " 'disalurin']"
      ]
     },
     "execution_count": 26,
     "metadata": {},
     "output_type": "execute_result"
    }
   ],
   "source": [
    "# kata-kataa yang tidak berhasil di bobot\n",
    "index"
   ]
  },
  {
   "cell_type": "code",
   "execution_count": 28,
   "id": "28123f61-978a-414d-aba9-65f158e5ac0b",
   "metadata": {},
   "outputs": [],
   "source": [
    "# Embedding layer with glove\n",
    "embedding_layer = Embedding(len(word_index) + 1, EMBEDDING_DIM, input_length=MAX_SEQUENCES_LENGTH,weights=[embedding_matrix],trainable=False)"
   ]
  },
  {
   "cell_type": "code",
   "execution_count": 29,
   "id": "9c633864-1735-4c6f-b81e-fe40ec6c8f38",
   "metadata": {},
   "outputs": [],
   "source": [
    "# Create Model CNN\n",
    "def create_model():\n",
    "    model = Sequential()\n",
    "    model.add(embedding_layer)\n",
    "    model.add(Conv1D(filters=128, kernel_size=5, activation='relu', padding='same'))\n",
    "    model.add(MaxPooling1D(pool_size=2))\n",
    "    model.add(Dropout(0.3))\n",
    "    model.add(Flatten())\n",
    "    model.add(Dense(64,activation=\"relu\"))\n",
    "    model.add(Dense(3, activation='softmax'))\n",
    "    model.compile(loss='categorical_crossentropy', optimizer='adam', metrics=['accuracy'])\n",
    "    model.summary()\n",
    "    return model"
   ]
  },
  {
   "cell_type": "code",
   "execution_count": 30,
   "id": "75de104f-ec3f-489f-b0d9-fd7322ada82b",
   "metadata": {},
   "outputs": [
    {
     "name": "stdout",
     "output_type": "stream",
     "text": [
      "Model: \"sequential\"\n",
      "_________________________________________________________________\n",
      "Layer (type)                 Output Shape              Param #   \n",
      "=================================================================\n",
      "embedding (Embedding)        (None, 100, 50)           156500    \n",
      "_________________________________________________________________\n",
      "conv1d (Conv1D)              (None, 100, 128)          32128     \n",
      "_________________________________________________________________\n",
      "max_pooling1d (MaxPooling1D) (None, 50, 128)           0         \n",
      "_________________________________________________________________\n",
      "dropout (Dropout)            (None, 50, 128)           0         \n",
      "_________________________________________________________________\n",
      "flatten (Flatten)            (None, 6400)              0         \n",
      "_________________________________________________________________\n",
      "dense (Dense)                (None, 64)                409664    \n",
      "_________________________________________________________________\n",
      "dense_1 (Dense)              (None, 3)                 195       \n",
      "=================================================================\n",
      "Total params: 598,487\n",
      "Trainable params: 441,987\n",
      "Non-trainable params: 156,500\n",
      "_________________________________________________________________\n"
     ]
    }
   ],
   "source": [
    "# Train Model\n",
    "cnn_model = create_model()"
   ]
  },
  {
   "cell_type": "code",
   "execution_count": 31,
   "id": "db1744d7-c9a7-4040-b08f-4f3d0d7154b4",
   "metadata": {},
   "outputs": [
    {
     "name": "stdout",
     "output_type": "stream",
     "text": [
      "Epoch 1/40\n",
      "17/17 [==============================] - 15s 38ms/step - loss: 1.0101 - accuracy: 0.5024 - val_loss: 0.9798 - val_accuracy: 0.5022\n",
      "Epoch 2/40\n",
      "17/17 [==============================] - 0s 13ms/step - loss: 0.8752 - accuracy: 0.5906 - val_loss: 0.9210 - val_accuracy: 0.5109\n",
      "Epoch 3/40\n",
      "17/17 [==============================] - 0s 10ms/step - loss: 0.7436 - accuracy: 0.6951 - val_loss: 0.9118 - val_accuracy: 0.5371\n",
      "Epoch 4/40\n",
      "17/17 [==============================] - 0s 10ms/step - loss: 0.6038 - accuracy: 0.7405 - val_loss: 0.9447 - val_accuracy: 0.5546\n",
      "Epoch 5/40\n",
      "17/17 [==============================] - 0s 8ms/step - loss: 0.4841 - accuracy: 0.8217 - val_loss: 1.0552 - val_accuracy: 0.5459\n",
      "Epoch 6/40\n",
      "17/17 [==============================] - 0s 8ms/step - loss: 0.3775 - accuracy: 0.8614 - val_loss: 1.0614 - val_accuracy: 0.5415\n",
      "Epoch 7/40\n",
      "17/17 [==============================] - 0s 8ms/step - loss: 0.2796 - accuracy: 0.9131 - val_loss: 1.0883 - val_accuracy: 0.5240\n",
      "Epoch 8/40\n",
      "17/17 [==============================] - 0s 8ms/step - loss: 0.1850 - accuracy: 0.9654 - val_loss: 1.1508 - val_accuracy: 0.5153\n",
      "Epoch 9/40\n",
      "17/17 [==============================] - 0s 8ms/step - loss: 0.1056 - accuracy: 0.9917 - val_loss: 1.2926 - val_accuracy: 0.5284\n",
      "Epoch 10/40\n",
      "17/17 [==============================] - 0s 8ms/step - loss: 0.0940 - accuracy: 0.9816 - val_loss: 1.4428 - val_accuracy: 0.5153\n",
      "Epoch 11/40\n",
      "17/17 [==============================] - 0s 8ms/step - loss: 0.0605 - accuracy: 0.9965 - val_loss: 1.4409 - val_accuracy: 0.5284\n",
      "Epoch 12/40\n",
      "17/17 [==============================] - 0s 8ms/step - loss: 0.0560 - accuracy: 0.9949 - val_loss: 1.5927 - val_accuracy: 0.5109\n",
      "Epoch 13/40\n",
      "17/17 [==============================] - 0s 8ms/step - loss: 0.0506 - accuracy: 0.9838 - val_loss: 1.4978 - val_accuracy: 0.5240\n",
      "Epoch 14/40\n",
      "17/17 [==============================] - 0s 8ms/step - loss: 0.0348 - accuracy: 0.9939 - val_loss: 1.5520 - val_accuracy: 0.5240\n",
      "Epoch 15/40\n",
      "17/17 [==============================] - 0s 8ms/step - loss: 0.0283 - accuracy: 0.9955 - val_loss: 1.7115 - val_accuracy: 0.5197\n",
      "Epoch 16/40\n",
      "17/17 [==============================] - 0s 8ms/step - loss: 0.0211 - accuracy: 0.9998 - val_loss: 1.6456 - val_accuracy: 0.5284\n",
      "Epoch 17/40\n",
      "17/17 [==============================] - 0s 8ms/step - loss: 0.0277 - accuracy: 0.9924 - val_loss: 1.7760 - val_accuracy: 0.5459\n",
      "Epoch 18/40\n",
      "17/17 [==============================] - 0s 8ms/step - loss: 0.0282 - accuracy: 0.9930 - val_loss: 1.7866 - val_accuracy: 0.5240\n",
      "Epoch 19/40\n",
      "17/17 [==============================] - 0s 8ms/step - loss: 0.0411 - accuracy: 0.9897 - val_loss: 1.7377 - val_accuracy: 0.5415\n",
      "Epoch 20/40\n",
      "17/17 [==============================] - 0s 8ms/step - loss: 0.0155 - accuracy: 1.0000 - val_loss: 1.7323 - val_accuracy: 0.5502\n",
      "Epoch 21/40\n",
      "17/17 [==============================] - 0s 8ms/step - loss: 0.0173 - accuracy: 0.9945 - val_loss: 1.7614 - val_accuracy: 0.5415\n",
      "Epoch 22/40\n",
      "17/17 [==============================] - 0s 8ms/step - loss: 0.0092 - accuracy: 1.0000 - val_loss: 1.8679 - val_accuracy: 0.5240\n",
      "Epoch 23/40\n",
      "17/17 [==============================] - 0s 8ms/step - loss: 0.0127 - accuracy: 0.9939 - val_loss: 1.9412 - val_accuracy: 0.5371\n",
      "Epoch 24/40\n",
      "17/17 [==============================] - 0s 8ms/step - loss: 0.0115 - accuracy: 1.0000 - val_loss: 1.9817 - val_accuracy: 0.5328\n",
      "Epoch 25/40\n",
      "17/17 [==============================] - 0s 8ms/step - loss: 0.0077 - accuracy: 1.0000 - val_loss: 1.9868 - val_accuracy: 0.5240\n",
      "Epoch 26/40\n",
      "17/17 [==============================] - 0s 8ms/step - loss: 0.0102 - accuracy: 0.9957 - val_loss: 1.9476 - val_accuracy: 0.5328\n",
      "Epoch 27/40\n",
      "17/17 [==============================] - 0s 8ms/step - loss: 0.0047 - accuracy: 1.0000 - val_loss: 2.0099 - val_accuracy: 0.5415\n",
      "Epoch 28/40\n",
      "17/17 [==============================] - 0s 8ms/step - loss: 0.0037 - accuracy: 1.0000 - val_loss: 1.9630 - val_accuracy: 0.5371\n",
      "Epoch 29/40\n",
      "17/17 [==============================] - 0s 8ms/step - loss: 0.0042 - accuracy: 1.0000 - val_loss: 2.1262 - val_accuracy: 0.5371\n",
      "Epoch 30/40\n",
      "17/17 [==============================] - 0s 8ms/step - loss: 0.0036 - accuracy: 1.0000 - val_loss: 2.0530 - val_accuracy: 0.5371\n",
      "Epoch 31/40\n",
      "17/17 [==============================] - 0s 8ms/step - loss: 0.0033 - accuracy: 1.0000 - val_loss: 2.1151 - val_accuracy: 0.5459\n",
      "Epoch 32/40\n",
      "17/17 [==============================] - 0s 8ms/step - loss: 0.0030 - accuracy: 1.0000 - val_loss: 2.2198 - val_accuracy: 0.5415\n",
      "Epoch 33/40\n",
      "17/17 [==============================] - 0s 8ms/step - loss: 0.0031 - accuracy: 1.0000 - val_loss: 2.1575 - val_accuracy: 0.5371\n",
      "Epoch 34/40\n",
      "17/17 [==============================] - 0s 8ms/step - loss: 0.0026 - accuracy: 1.0000 - val_loss: 2.1220 - val_accuracy: 0.5459\n",
      "Epoch 35/40\n",
      "17/17 [==============================] - 0s 8ms/step - loss: 0.0043 - accuracy: 0.9990 - val_loss: 2.1054 - val_accuracy: 0.4803\n",
      "Epoch 36/40\n",
      "17/17 [==============================] - 0s 8ms/step - loss: 0.0108 - accuracy: 0.9939 - val_loss: 2.0871 - val_accuracy: 0.5197\n",
      "Epoch 37/40\n",
      "17/17 [==============================] - 0s 8ms/step - loss: 0.0075 - accuracy: 0.9957 - val_loss: 2.1844 - val_accuracy: 0.5240\n",
      "Epoch 38/40\n",
      "17/17 [==============================] - 0s 9ms/step - loss: 0.0029 - accuracy: 1.0000 - val_loss: 2.2890 - val_accuracy: 0.5197\n",
      "Epoch 39/40\n",
      "17/17 [==============================] - 0s 9ms/step - loss: 0.0047 - accuracy: 1.0000 - val_loss: 2.2553 - val_accuracy: 0.5240\n",
      "Epoch 40/40\n",
      "17/17 [==============================] - 0s 8ms/step - loss: 0.0026 - accuracy: 1.0000 - val_loss: 2.1332 - val_accuracy: 0.5153\n"
     ]
    }
   ],
   "source": [
    "cnn_history = cnn_model.fit(X_train, y_train, epochs=40, validation_data=(X_test, y_test))"
   ]
  },
  {
   "cell_type": "code",
   "execution_count": null,
   "id": "28f187d5-14a3-4b77-a1d7-4ec997a15877",
   "metadata": {},
   "outputs": [],
   "source": [
    "# visualisasi model\n",
    "# from keras.utils.vis_utils import plot_model\n",
    "# plot_model(cnn_model, to_file='model1.png', show_shapes=True, show_dtype=False, show_layer_names=True, rankdir='TB', expand_nested=True, ddpi=96)"
   ]
  },
  {
   "cell_type": "code",
   "execution_count": null,
   "id": "d7791ff6-f0d2-4ea6-b74a-10b677086602",
   "metadata": {},
   "outputs": [],
   "source": [
    "# save model cnn\n",
    "# cnn_model.save('model70_e40.h5')\n",
    "\n",
    "# load model\n",
    "# from keras.models import load_model\n",
    "\n",
    "# cnn_model = load_model('pengujian/model70_e40.h5')"
   ]
  },
  {
   "cell_type": "code",
   "execution_count": 46,
   "id": "56faddfc-5653-417a-bbfd-1957d7c428d4",
   "metadata": {},
   "outputs": [
    {
     "name": "stdout",
     "output_type": "stream",
     "text": [
      "CNN Accuracy: 0.5152838427947598\n"
     ]
    },
    {
     "data": {
      "image/png": "[encoded data removed]",
      "text/plain": [
       "<Figure size 1440x1152 with 2 Axes>"
      ]
     },
     "metadata": {
      "needs_background": "light"
     },
     "output_type": "display_data"
    }
   ],
   "source": [
    "# benerin dulu\n",
    "from sklearn.metrics import accuracy_score, confusion_matrix\n",
    "import seaborn as sns\n",
    "ypred = cnn_model.predict(X_test)\n",
    "cnn_accuracy = accuracy_score(y_test.argmax(axis=-1),ypred.argmax(axis=-1))\n",
    "print(\"CNN Accuracy:\",cnn_accuracy)\n",
    "cnn_cn = confusion_matrix(y_test.argmax(axis=-1),ypred.argmax(axis=-1))\n",
    "plt.subplots(figsize=(20,16))\n",
    "sns.heatmap(cnn_cn,annot=True,fmt=\"1d\",cmap=\"Blues\",cbar=True,xticklabels=classes,yticklabels=classes)\n",
    "plt.xlabel(\"Predicted\",fontsize=15)\n",
    "plt.ylabel(\"Actual\",fontsize=15)\n",
    "# plt.savefig('model60_e40.png')\n",
    "plt.show()"
   ]
  },
  {
   "cell_type": "code",
   "execution_count": 43,
   "id": "8d3d9be0-45d8-498f-97a0-14e6c312d3fd",
   "metadata": {},
   "outputs": [
    {
     "data": {
      "text/plain": [
       "array([[63, 12, 34],\n",
       "       [14,  3, 10],\n",
       "       [38,  3, 52]])"
      ]
     },
     "execution_count": 43,
     "metadata": {},
     "output_type": "execute_result"
    }
   ],
   "source": [
    "cnn_cn"
   ]
  },
  {
   "cell_type": "code",
   "execution_count": 38,
   "id": "f5455609-fd0c-4cd5-b7bc-b82301454759",
   "metadata": {},
   "outputs": [
    {
     "name": "stdout",
     "output_type": "stream",
     "text": [
      "              precision    recall  f1-score   support\n",
      "\n",
      "           0       0.55      0.58      0.56       109\n",
      "           1       0.17      0.11      0.13        27\n",
      "           2       0.54      0.56      0.55        93\n",
      "\n",
      "    accuracy                           0.52       229\n",
      "   macro avg       0.42      0.42      0.42       229\n",
      "weighted avg       0.50      0.52      0.51       229\n",
      "\n"
     ]
    }
   ],
   "source": [
    "from sklearn.metrics import classification_report\n",
    "print(classification_report(y_test.argmax(axis=-1), ypred.argmax(axis=-1),target_names= classes))"
   ]
  },
  {
   "cell_type": "code",
   "execution_count": 41,
   "id": "8466aa04-54ed-4fbf-8ea9-4cc623f57628",
   "metadata": {},
   "outputs": [
    {
     "data": {
      "image/png": "[encoded data removed]",
      "text/plain": [
       "<Figure size 1080x360 with 2 Axes>"
      ]
     },
     "metadata": {
      "needs_background": "light"
     },
     "output_type": "display_data"
    }
   ],
   "source": [
    "fig3, axe1 = plt.subplots(nrows=1, ncols=2, figsize=(15,5))\n",
    "axe1[0].plot(cnn_history.history[\"accuracy\"],label=\"accuracy\")\n",
    "axe1[0].plot(cnn_history.history[\"val_accuracy\"],label=\"accuracy\")\n",
    "axe1[0].legend(['train', 'val'], loc='upper left')\n",
    "axe1[1].plot(cnn_history.history[\"loss\"],label=\"loss\")\n",
    "axe1[1].plot(cnn_history.history[\"val_loss\"],label=\"loss\")\n",
    "axe1[1].legend(['train', 'val'], loc='upper left')\n",
    "axe1[0].title.set_text(\"CNN Accuracy\")\n",
    "axe1[1].title.set_text(\"CNN Loss\")\n",
    "axe1[0].set_xlabel(\"Epoch\")\n",
    "axe1[1].set_xlabel(\"Epoch\")\n",
    "axe1[0].set_ylabel(\"Rate\")\n",
    "plt.show()"
   ]
  },
  {
   "cell_type": "code",
   "execution_count": null,
   "id": "34c728a9-47e4-42f6-a47f-a690649d717e",
   "metadata": {},
   "outputs": [],
   "source": [
    "# word cloud"
   ]
  }
 ],
 "metadata": {
  "kernelspec": {
   "display_name": "Python 3",
   "language": "python",
   "name": "python3"
  },
  "language_info": {
   "codemirror_mode": {
    "name": "ipython",
    "version": 3
   },
   "file_extension": ".py",
   "mimetype": "text/x-python",
   "name": "python",
   "nbconvert_exporter": "python",
   "pygments_lexer": "ipython3",
   "version": "3.8.8"
  }
 },
 "nbformat": 4,
 "nbformat_minor": 5
}
