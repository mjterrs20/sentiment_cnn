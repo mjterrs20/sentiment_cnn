{
 "cells": [
  {
   "cell_type": "code",
   "execution_count": 1,
   "id": "96e12ca1-8cba-4069-adbe-3558005c0c96",
   "metadata": {},
   "outputs": [],
   "source": [
    "# import library\n",
    "import numpy as np \n",
    "import pandas as pd\n",
    "import re\n",
    "import os\n",
    "\n",
    "import matplotlib.pyplot as plt\n",
    "%matplotlib inline\n",
    "\n",
    "import keras\n",
    "import keras.utils\n",
    "from sklearn import preprocessing\n",
    "from keras.preprocessing.sequence import pad_sequences\n",
    "from keras.preprocessing.text import Tokenizer\n",
    "from keras.preprocessing import sequence\n",
    "from sklearn.preprocessing import LabelEncoder\n",
    "from keras.utils.np_utils import to_categorical\n",
    "from sklearn.model_selection import train_test_split\n",
    "\n",
    "from keras.models import Sequential\n",
    "from keras.layers import Dense, Dropout, Activation\n",
    "from keras.layers import Embedding\n",
    "from keras.layers import Conv1D, GlobalMaxPooling1D, MaxPooling1D, Flatten\n",
    "\n",
    "from functools import partial\n",
    "from keras import metrics"
   ]
  },
  {
   "cell_type": "code",
   "execution_count": 2,
   "id": "7489f497-bdd3-4967-a541-584852732fd8",
   "metadata": {},
   "outputs": [],
   "source": [
    "MAX_SEQUENCES_LENGTH = 50 # Maximum kata pada kalimat\n",
    "MAX_NB_WORDS = 6000 # Vocabulary size\n",
    "EMBEDDING_DIM = 50 # Dimensions of Glove word vector kadang bisa juga 100"
   ]
  },
  {
   "cell_type": "code",
   "execution_count": 3,
   "id": "dd7f7b04-8863-4a52-abed-dcdb43b30976",
   "metadata": {},
   "outputs": [
    {
     "data": {
      "text/html": [
       "<div>\n",
       "<style scoped>\n",
       "    .dataframe tbody tr th:only-of-type {\n",
       "        vertical-align: middle;\n",
       "    }\n",
       "\n",
       "    .dataframe tbody tr th {\n",
       "        vertical-align: top;\n",
       "    }\n",
       "\n",
       "    .dataframe thead th {\n",
       "        text-align: right;\n",
       "    }\n",
       "</style>\n",
       "<table border=\"1\" class=\"dataframe\">\n",
       "  <thead>\n",
       "    <tr style=\"text-align: right;\">\n",
       "      <th></th>\n",
       "      <th>text</th>\n",
       "      <th>Label</th>\n",
       "    </tr>\n",
       "  </thead>\n",
       "  <tbody>\n",
       "    <tr>\n",
       "      <th>0</th>\n",
       "      <td>itu mah konflik rebut tanah</td>\n",
       "      <td>0</td>\n",
       "    </tr>\n",
       "    <tr>\n",
       "      <th>1</th>\n",
       "      <td>karena tidak ada urgensi tidak ada ancam invas...</td>\n",
       "      <td>0</td>\n",
       "    </tr>\n",
       "    <tr>\n",
       "      <th>2</th>\n",
       "      <td>ini sah kemarin saya sempat nonton salah satu ...</td>\n",
       "      <td>0</td>\n",
       "    </tr>\n",
       "    <tr>\n",
       "      <th>3</th>\n",
       "      <td>analisis yang rumus dari klaster politik luar ...</td>\n",
       "      <td>0</td>\n",
       "    </tr>\n",
       "    <tr>\n",
       "      <th>4</th>\n",
       "      <td>bisa tidak palestina taat cara kaffah dalam is...</td>\n",
       "      <td>0</td>\n",
       "    </tr>\n",
       "  </tbody>\n",
       "</table>\n",
       "</div>"
      ],
      "text/plain": [
       "                                                text  Label\n",
       "0                        itu mah konflik rebut tanah      0\n",
       "1  karena tidak ada urgensi tidak ada ancam invas...      0\n",
       "2  ini sah kemarin saya sempat nonton salah satu ...      0\n",
       "3  analisis yang rumus dari klaster politik luar ...      0\n",
       "4  bisa tidak palestina taat cara kaffah dalam is...      0"
      ]
     },
     "execution_count": 3,
     "metadata": {},
     "output_type": "execute_result"
    }
   ],
   "source": [
    "# open dataset,save on dataframe\n",
    "df = pd.read_csv(\"just_stemming.csv\",encoding=\"ISO-8859-1\")\n",
    "\n",
    "# membuka data slang (data yang akan dibenarkan)\n",
    "with open('slang.txt') as file:\n",
    "    slang_map = dict(map(str.strip, line.partition('\\t')[::2])\n",
    "    for line in file if line.strip())\n",
    "    \n",
    "df.head()"
   ]
  },
  {
   "cell_type": "code",
   "execution_count": 4,
   "id": "7d0e63e7-6eee-4e9e-a3ae-622c017cebc8",
   "metadata": {},
   "outputs": [],
   "source": [
    "# delete data label netral\n",
    "df = df[df.Label != 0]"
   ]
  },
  {
   "cell_type": "code",
   "execution_count": 5,
   "id": "83470dfb-3efc-40ae-beec-4132eec26aa0",
   "metadata": {},
   "outputs": [],
   "source": [
    "df.loc[df['Label'] == 2, 'Label'] = 0"
   ]
  },
  {
   "cell_type": "code",
   "execution_count": 6,
   "id": "9245901b-1124-4fd4-a4b4-8a28f455bd39",
   "metadata": {},
   "outputs": [
    {
     "name": "stdout",
     "output_type": "stream",
     "text": [
      "0    526\n",
      "1    366\n",
      "Name: Label, dtype: int64\n"
     ]
    },
    {
     "data": {
      "image/png": "[encoded data removed]",
      "text/plain": [
       "<Figure size 432x288 with 1 Axes>"
      ]
     },
     "metadata": {
      "needs_background": "light"
     },
     "output_type": "display_data"
    }
   ],
   "source": [
    "# menghitung Label sentimen (menampilkan tabel pembagian label sentimen)\n",
    "labels = df.Label\n",
    "labels_count = labels.value_counts()\n",
    "labels_count.plot(kind=\"bar\", x='Label', y='Jumlah', color='red')\n",
    "print(labels.value_counts())"
   ]
  },
  {
   "cell_type": "code",
   "execution_count": 7,
   "id": "abf9393b-146f-4e0b-a1f8-4102f140b25b",
   "metadata": {},
   "outputs": [],
   "source": [
    "# Prepare to X as Feature\n",
    "tokenizer = Tokenizer()\n",
    "tokenizer.fit_on_texts(df.text)\n",
    "sequences = tokenizer.texts_to_sequences(df.text)\n",
    "# Banyak kata yang telah di tokenizer\n",
    "word_index = tokenizer.word_index"
   ]
  },
  {
   "cell_type": "code",
   "execution_count": 8,
   "id": "0e033391-f1e3-42fc-bfd0-ebfced6c7451",
   "metadata": {},
   "outputs": [],
   "source": [
    "X = pad_sequences(sequences, maxlen=MAX_SEQUENCES_LENGTH)"
   ]
  },
  {
   "cell_type": "code",
   "execution_count": 9,
   "id": "aaaa920e-0fcd-41cd-9076-e04b986dabf7",
   "metadata": {},
   "outputs": [],
   "source": [
    "# Prepare to y as label\n",
    "y = df[\"Label\"]"
   ]
  },
  {
   "cell_type": "code",
   "execution_count": 10,
   "id": "15d031e5-15f8-4735-96a3-9018da0202a0",
   "metadata": {},
   "outputs": [],
   "source": [
    "classes = ['0', '1']"
   ]
  },
  {
   "cell_type": "code",
   "execution_count": 11,
   "id": "8df7512d-c0fc-4907-ad4f-1e0c28ae0d0a",
   "metadata": {},
   "outputs": [],
   "source": [
    "# Split Dataset\n",
    "X_train, X_test, y_train, y_test = train_test_split(X, y, test_size=0.1, random_state=20, stratify=y)"
   ]
  },
  {
   "cell_type": "code",
   "execution_count": null,
   "id": "19188ebb-8adb-4471-8e9d-fbc53bdb7e91",
   "metadata": {},
   "outputs": [],
   "source": [
    "# open Glove\n",
    "print('Indexing word vectors.')\n",
    "\n",
    "embeddings_index = {}\n",
    "f = open(os.path.join('dataset/glove/vectors.txt'), encoding='utf-8')\n",
    "for line in f:\n",
    "    values = line.split()\n",
    "    word = values[0]\n",
    "    coefs = np.asarray(values[1:], dtype='float32')\n",
    "    embeddings_index[word] = coefs\n",
    "f.close()\n",
    "\n",
    "print('Found %s word vectors.' % len(embeddings_index))"
   ]
  },
  {
   "cell_type": "code",
   "execution_count": null,
   "id": "cddd76aa-93a7-45e1-864c-fc808c3f62c6",
   "metadata": {},
   "outputs": [],
   "source": [
    "# Use GloVe as Word Embedding\n",
    "hits = 0\n",
    "misses = 0\n",
    "index = []\n",
    "embedding_matrix = np.zeros((len(word_index) + 1, EMBEDDING_DIM))\n",
    "for word, i in word_index.items():\n",
    "    embedding_vector = embeddings_index.get(word)\n",
    "    if embedding_vector is not None:\n",
    "        # words not found in embedding index will be all-zeros.\n",
    "        embedding_matrix[i] = embedding_vector\n",
    "        hits += 1\n",
    "    else:\n",
    "        misses += 1\n",
    "        index.append(word)"
   ]
  },
  {
   "cell_type": "code",
   "execution_count": null,
   "id": "2c5ba126-b76a-4c58-b313-f2c6a8396ade",
   "metadata": {},
   "outputs": [],
   "source": [
    "# Embedding layer with glove\n",
    "# embedding_layer = Embedding(len(word_index) + 1, EMBEDDING_DIM, input_length=MAX_SEQUENCES_LENGTH,weights=[embedding_matrix],trainable=True)"
   ]
  },
  {
   "cell_type": "code",
   "execution_count": 12,
   "id": "1d0f5d60-fa1c-43f2-837c-28f5e3ca7f77",
   "metadata": {},
   "outputs": [],
   "source": [
    "embedding_layer = Embedding(len(word_index) + 1, EMBEDDING_DIM, input_length=MAX_SEQUENCES_LENGTH)"
   ]
  },
  {
   "cell_type": "code",
   "execution_count": 13,
   "id": "ea71738d-5a9a-40b2-8b21-7cc325047bde",
   "metadata": {},
   "outputs": [],
   "source": [
    "def create_model():\n",
    "    model = Sequential()\n",
    "    model.add(embedding_layer)\n",
    "    model.add(Conv1D(filters=64, kernel_size=5, activation='relu', padding='same'))\n",
    "    model.add(MaxPooling1D(pool_size=2))\n",
    "    model.add(Dropout(0.5))\n",
    "    model.add(Flatten())\n",
    "    model.add(Dropout(0.5))\n",
    "    model.add(Dense(1, activation='sigmoid'))\n",
    "    model.compile(loss='binary_crossentropy', optimizer='adam', metrics=['accuracy'])\n",
    "    model.summary()\n",
    "    return model"
   ]
  },
  {
   "cell_type": "code",
   "execution_count": 14,
   "id": "c4c70850-3fa8-406d-b796-927e4d9e8eee",
   "metadata": {},
   "outputs": [
    {
     "name": "stdout",
     "output_type": "stream",
     "text": [
      "Model: \"sequential\"\n",
      "_________________________________________________________________\n",
      "Layer (type)                 Output Shape              Param #   \n",
      "=================================================================\n",
      "embedding (Embedding)        (None, 50, 50)            125400    \n",
      "_________________________________________________________________\n",
      "conv1d (Conv1D)              (None, 50, 64)            16064     \n",
      "_________________________________________________________________\n",
      "max_pooling1d (MaxPooling1D) (None, 25, 64)            0         \n",
      "_________________________________________________________________\n",
      "dropout (Dropout)            (None, 25, 64)            0         \n",
      "_________________________________________________________________\n",
      "flatten (Flatten)            (None, 1600)              0         \n",
      "_________________________________________________________________\n",
      "dropout_1 (Dropout)          (None, 1600)              0         \n",
      "_________________________________________________________________\n",
      "dense (Dense)                (None, 1)                 1601      \n",
      "=================================================================\n",
      "Total params: 143,065\n",
      "Trainable params: 143,065\n",
      "Non-trainable params: 0\n",
      "_________________________________________________________________\n"
     ]
    }
   ],
   "source": [
    "# Train Model\n",
    "cnn_model = create_model()"
   ]
  },
  {
   "cell_type": "code",
   "execution_count": 15,
   "id": "bcee2604-13b1-411d-a0a7-a8f674e4c5fa",
   "metadata": {},
   "outputs": [
    {
     "name": "stdout",
     "output_type": "stream",
     "text": [
      "Epoch 1/40\n",
      "26/26 [==============================] - 14s 25ms/step - loss: 0.6865 - accuracy: 0.5556 - val_loss: 0.6749 - val_accuracy: 0.5889\n",
      "Epoch 2/40\n",
      "26/26 [==============================] - 0s 6ms/step - loss: 0.6535 - accuracy: 0.5816 - val_loss: 0.6794 - val_accuracy: 0.6222\n",
      "Epoch 3/40\n",
      "26/26 [==============================] - 0s 8ms/step - loss: 0.6317 - accuracy: 0.6769 - val_loss: 0.6890 - val_accuracy: 0.6333\n",
      "Epoch 4/40\n",
      "26/26 [==============================] - 0s 6ms/step - loss: 0.6072 - accuracy: 0.6868 - val_loss: 0.7040 - val_accuracy: 0.6222\n",
      "Epoch 5/40\n",
      "26/26 [==============================] - 0s 5ms/step - loss: 0.5813 - accuracy: 0.7119 - val_loss: 0.7029 - val_accuracy: 0.6000\n",
      "Epoch 6/40\n",
      "26/26 [==============================] - 0s 5ms/step - loss: 0.5291 - accuracy: 0.7409 - val_loss: 0.6930 - val_accuracy: 0.6222\n",
      "Epoch 7/40\n",
      "26/26 [==============================] - 0s 5ms/step - loss: 0.4639 - accuracy: 0.8459 - val_loss: 0.6679 - val_accuracy: 0.6222\n",
      "Epoch 8/40\n",
      "26/26 [==============================] - 0s 7ms/step - loss: 0.3625 - accuracy: 0.9061 - val_loss: 0.6198 - val_accuracy: 0.6778\n",
      "Epoch 9/40\n",
      "26/26 [==============================] - 0s 6ms/step - loss: 0.2788 - accuracy: 0.9208 - val_loss: 0.5792 - val_accuracy: 0.7222\n",
      "Epoch 10/40\n",
      "26/26 [==============================] - 0s 5ms/step - loss: 0.2003 - accuracy: 0.9532 - val_loss: 0.5276 - val_accuracy: 0.7667\n",
      "Epoch 11/40\n",
      "26/26 [==============================] - 0s 5ms/step - loss: 0.1515 - accuracy: 0.9575 - val_loss: 0.5279 - val_accuracy: 0.7444\n",
      "Epoch 12/40\n",
      "26/26 [==============================] - 0s 5ms/step - loss: 0.1268 - accuracy: 0.9589 - val_loss: 0.5265 - val_accuracy: 0.7778\n",
      "Epoch 13/40\n",
      "26/26 [==============================] - 0s 6ms/step - loss: 0.0917 - accuracy: 0.9674 - val_loss: 0.5295 - val_accuracy: 0.7667\n",
      "Epoch 14/40\n",
      "26/26 [==============================] - 0s 6ms/step - loss: 0.0712 - accuracy: 0.9794 - val_loss: 0.5560 - val_accuracy: 0.7444\n",
      "Epoch 15/40\n",
      "26/26 [==============================] - 0s 6ms/step - loss: 0.0499 - accuracy: 0.9893 - val_loss: 0.5658 - val_accuracy: 0.7444\n",
      "Epoch 16/40\n",
      "26/26 [==============================] - 0s 6ms/step - loss: 0.0393 - accuracy: 0.9992 - val_loss: 0.5847 - val_accuracy: 0.7667\n",
      "Epoch 17/40\n",
      "26/26 [==============================] - 0s 6ms/step - loss: 0.0394 - accuracy: 0.9935 - val_loss: 0.5953 - val_accuracy: 0.7222\n",
      "Epoch 18/40\n",
      "26/26 [==============================] - 0s 6ms/step - loss: 0.0335 - accuracy: 0.9972 - val_loss: 0.6021 - val_accuracy: 0.7333\n",
      "Epoch 19/40\n",
      "26/26 [==============================] - 0s 6ms/step - loss: 0.0328 - accuracy: 0.9933 - val_loss: 0.6498 - val_accuracy: 0.7556\n",
      "Epoch 20/40\n",
      "26/26 [==============================] - 0s 6ms/step - loss: 0.0228 - accuracy: 0.9982 - val_loss: 0.6529 - val_accuracy: 0.7556\n",
      "Epoch 21/40\n",
      "26/26 [==============================] - 0s 6ms/step - loss: 0.0227 - accuracy: 0.9975 - val_loss: 0.6613 - val_accuracy: 0.7667\n",
      "Epoch 22/40\n",
      "26/26 [==============================] - 0s 6ms/step - loss: 0.0210 - accuracy: 0.9954 - val_loss: 0.6766 - val_accuracy: 0.7556\n",
      "Epoch 23/40\n",
      "26/26 [==============================] - 0s 8ms/step - loss: 0.0181 - accuracy: 0.9991 - val_loss: 0.6886 - val_accuracy: 0.7444\n",
      "Epoch 24/40\n",
      "26/26 [==============================] - 0s 7ms/step - loss: 0.0146 - accuracy: 0.9993 - val_loss: 0.6899 - val_accuracy: 0.7556\n",
      "Epoch 25/40\n",
      "26/26 [==============================] - 0s 7ms/step - loss: 0.0114 - accuracy: 0.9998 - val_loss: 0.7036 - val_accuracy: 0.7444\n",
      "Epoch 26/40\n",
      "26/26 [==============================] - 0s 6ms/step - loss: 0.0161 - accuracy: 0.9966 - val_loss: 0.7075 - val_accuracy: 0.7444\n",
      "Epoch 27/40\n",
      "26/26 [==============================] - 0s 6ms/step - loss: 0.0130 - accuracy: 0.9977 - val_loss: 0.7200 - val_accuracy: 0.7444\n",
      "Epoch 28/40\n",
      "26/26 [==============================] - 0s 6ms/step - loss: 0.0108 - accuracy: 0.9986 - val_loss: 0.7473 - val_accuracy: 0.7444\n",
      "Epoch 29/40\n",
      "26/26 [==============================] - 0s 6ms/step - loss: 0.0061 - accuracy: 1.0000 - val_loss: 0.7582 - val_accuracy: 0.7444\n",
      "Epoch 30/40\n",
      "26/26 [==============================] - 0s 6ms/step - loss: 0.0098 - accuracy: 0.9984 - val_loss: 0.7635 - val_accuracy: 0.7667\n",
      "Epoch 31/40\n",
      "26/26 [==============================] - 0s 5ms/step - loss: 0.0067 - accuracy: 0.9995 - val_loss: 0.7637 - val_accuracy: 0.7444\n",
      "Epoch 32/40\n",
      "26/26 [==============================] - 0s 5ms/step - loss: 0.0058 - accuracy: 0.9989 - val_loss: 0.7834 - val_accuracy: 0.7444\n",
      "Epoch 33/40\n",
      "26/26 [==============================] - 0s 5ms/step - loss: 0.0070 - accuracy: 0.9992 - val_loss: 0.7953 - val_accuracy: 0.7667\n",
      "Epoch 34/40\n",
      "26/26 [==============================] - 0s 6ms/step - loss: 0.0062 - accuracy: 0.9986 - val_loss: 0.8060 - val_accuracy: 0.7444\n",
      "Epoch 35/40\n",
      "26/26 [==============================] - 0s 6ms/step - loss: 0.0048 - accuracy: 1.0000 - val_loss: 0.8163 - val_accuracy: 0.7444\n",
      "Epoch 36/40\n",
      "26/26 [==============================] - 0s 6ms/step - loss: 0.0048 - accuracy: 0.9997 - val_loss: 0.8254 - val_accuracy: 0.7333\n",
      "Epoch 37/40\n",
      "26/26 [==============================] - 0s 6ms/step - loss: 0.0040 - accuracy: 1.0000 - val_loss: 0.8280 - val_accuracy: 0.7333\n",
      "Epoch 38/40\n",
      "26/26 [==============================] - 0s 5ms/step - loss: 0.0060 - accuracy: 0.9997 - val_loss: 0.8407 - val_accuracy: 0.7333\n",
      "Epoch 39/40\n",
      "26/26 [==============================] - 0s 6ms/step - loss: 0.0026 - accuracy: 1.0000 - val_loss: 0.8500 - val_accuracy: 0.7444\n",
      "Epoch 40/40\n",
      "26/26 [==============================] - 0s 6ms/step - loss: 0.0129 - accuracy: 0.9953 - val_loss: 0.8558 - val_accuracy: 0.7556\n"
     ]
    }
   ],
   "source": [
    "cnn_history = cnn_model.fit(X_train, y_train, epochs=40, validation_data=(X_test, y_test))"
   ]
  },
  {
   "cell_type": "code",
   "execution_count": 16,
   "id": "1f547467-2332-421c-b600-9156ce2dc327",
   "metadata": {},
   "outputs": [
    {
     "name": "stdout",
     "output_type": "stream",
     "text": [
      "CNN Accuracy: 0.7555555555555555\n"
     ]
    },
    {
     "data": {
      "image/png": "[encoded data removed]",
      "text/plain": [
       "<Figure size 1440x1152 with 2 Axes>"
      ]
     },
     "metadata": {
      "needs_background": "light"
     },
     "output_type": "display_data"
    }
   ],
   "source": [
    "# benerin dulu\n",
    "from sklearn.metrics import accuracy_score, confusion_matrix\n",
    "import seaborn as sns\n",
    "ypred = cnn_model.predict(X_test)\n",
    "cnn_accuracy = accuracy_score(y_test,ypred.round())\n",
    "print(\"CNN Accuracy:\",cnn_accuracy)\n",
    "cnn_cn = confusion_matrix(y_test,ypred.round())\n",
    "plt.subplots(figsize=(20,16))\n",
    "sns.heatmap(cnn_cn,annot=True,fmt=\"1d\",cmap=\"Blues\",cbar=True,xticklabels=classes,yticklabels=classes)\n",
    "plt.xlabel(\"Predicted\",fontsize=15)\n",
    "plt.ylabel(\"Actual\",fontsize=15)\n",
    "# plt.savefig('model60_e40.png')\n",
    "plt.show()"
   ]
  },
  {
   "cell_type": "code",
   "execution_count": 17,
   "id": "b78cc70e-06bc-4bbf-9ce5-af5fa5569ad1",
   "metadata": {},
   "outputs": [
    {
     "name": "stdout",
     "output_type": "stream",
     "text": [
      "              precision    recall  f1-score   support\n",
      "\n",
      "           0       0.80      0.77      0.79        53\n",
      "           1       0.69      0.73      0.71        37\n",
      "\n",
      "    accuracy                           0.76        90\n",
      "   macro avg       0.75      0.75      0.75        90\n",
      "weighted avg       0.76      0.76      0.76        90\n",
      "\n"
     ]
    }
   ],
   "source": [
    "from sklearn.metrics import classification_report\n",
    "print(classification_report(y_test, ypred.round(),target_names= classes))"
   ]
  },
  {
   "cell_type": "code",
   "execution_count": 18,
   "id": "e8acd589-9738-45b6-93ee-f8e5a011df2c",
   "metadata": {},
   "outputs": [
    {
     "data": {
      "image/png": "[encoded data removed]",
      "text/plain": [
       "<Figure size 1080x360 with 2 Axes>"
      ]
     },
     "metadata": {
      "needs_background": "light"
     },
     "output_type": "display_data"
    }
   ],
   "source": [
    "fig3, axe1 = plt.subplots(nrows=1, ncols=2, figsize=(15,5))\n",
    "axe1[0].plot(cnn_history.history[\"accuracy\"],label=\"accuracy\")\n",
    "axe1[0].plot(cnn_history.history[\"val_accuracy\"],label=\"accuracy\")\n",
    "axe1[0].legend(['train', 'val'], loc='upper left')\n",
    "axe1[1].plot(cnn_history.history[\"loss\"],label=\"loss\")\n",
    "axe1[1].plot(cnn_history.history[\"val_loss\"],label=\"loss\")\n",
    "axe1[1].legend(['train', 'val'], loc='upper left')\n",
    "axe1[0].title.set_text(\"CNN Accuracy\")\n",
    "axe1[1].title.set_text(\"CNN Loss\")\n",
    "axe1[0].set_xlabel(\"Epoch\")\n",
    "axe1[1].set_xlabel(\"Epoch\")\n",
    "axe1[0].set_ylabel(\"Rate\")\n",
    "plt.show()"
   ]
  },
  {
   "cell_type": "code",
   "execution_count": null,
   "id": "ff77b2c8-566b-49af-b4c4-6f1504c84950",
   "metadata": {},
   "outputs": [],
   "source": []
  },
  {
   "cell_type": "code",
   "execution_count": null,
   "id": "aad2cca3-64cd-42d1-b5e9-6870ef63b4d6",
   "metadata": {},
   "outputs": [],
   "source": []
  }
 ],
 "metadata": {
  "kernelspec": {
   "display_name": "Python 3",
   "language": "python",
   "name": "python3"
  },
  "language_info": {
   "codemirror_mode": {
    "name": "ipython",
    "version": 3
   },
   "file_extension": ".py",
   "mimetype": "text/x-python",
   "name": "python",
   "nbconvert_exporter": "python",
   "pygments_lexer": "ipython3",
   "version": "3.8.8"
  }
 },
 "nbformat": 4,
 "nbformat_minor": 5
}
